{
  "nbformat": 4,
  "nbformat_minor": 0,
  "metadata": {
    "colab": {
      "provenance": [],
      "authorship_tag": "ABX9TyPqXDMJppTxXMApz0UVUupp",
      "include_colab_link": true
    },
    "kernelspec": {
      "name": "python3",
      "display_name": "Python 3"
    },
    "language_info": {
      "name": "python"
    }
  },
  "cells": [
    {
      "cell_type": "markdown",
      "metadata": {
        "id": "view-in-github",
        "colab_type": "text"
      },
      "source": [
        "<a href=\"https://colab.research.google.com/github/AlanJack48/Reliance-Stock-Price-Forecasting/blob/main/Reliance_Stock_Price_Forecast.ipynb\" target=\"_parent\"><img src=\"https://colab.research.google.com/assets/colab-badge.svg\" alt=\"Open In Colab\"/></a>"
      ]
    },
    {
      "cell_type": "markdown",
      "source": [
        "**Importing Packages**"
      ],
      "metadata": {
        "id": "pIavBi-kB5l-"
      }
    },
    {
      "cell_type": "code",
      "source": [
        "import numpy as np\n",
        "import pandas as pd\n",
        "import matplotlib.pyplot as plt\n",
        "import seaborn as sns"
      ],
      "metadata": {
        "id": "MQ5E4octB_LW"
      },
      "execution_count": 1,
      "outputs": []
    },
    {
      "cell_type": "markdown",
      "source": [
        "**Reading the Dataset**\n"
      ],
      "metadata": {
        "id": "DJPZLQYNCL4t"
      }
    },
    {
      "cell_type": "code",
      "source": [
        "df = pd.read_csv('Reliance.csv')"
      ],
      "metadata": {
        "id": "z-MictqSCNlZ"
      },
      "execution_count": 2,
      "outputs": []
    },
    {
      "cell_type": "code",
      "source": [
        "df.head()"
      ],
      "metadata": {
        "colab": {
          "base_uri": "https://localhost:8080/",
          "height": 206
        },
        "id": "vtX5JJPnCcIW",
        "outputId": "9be1c0cc-0816-4665-8247-b4c90905be90"
      },
      "execution_count": 3,
      "outputs": [
        {
          "output_type": "execute_result",
          "data": {
            "text/plain": [
              "         Date         Open         High          Low        Close  \\\n",
              "0  2021-10-04  2553.000000  2574.850098  2537.050049  2556.149902   \n",
              "1  2021-10-05  2555.100098  2612.000000  2547.350098  2609.199951   \n",
              "2  2021-10-06  2619.949951  2619.949951  2551.100098  2559.850098   \n",
              "3  2021-10-07  2595.000000  2598.750000  2567.699951  2572.399902   \n",
              "4  2021-10-08  2585.250000  2684.399902  2581.500000  2671.250000   \n",
              "\n",
              "     Adj Close   Volume  \n",
              "0  2548.477051  5038910  \n",
              "1  2601.367920  6245770  \n",
              "2  2552.166260  4734472  \n",
              "3  2564.678467  2924370  \n",
              "4  2663.231689  7279003  "
            ],
            "text/html": [
              "\n",
              "  <div id=\"df-f7a5c313-ea30-4929-9366-5c5630919695\">\n",
              "    <div class=\"colab-df-container\">\n",
              "      <div>\n",
              "<style scoped>\n",
              "    .dataframe tbody tr th:only-of-type {\n",
              "        vertical-align: middle;\n",
              "    }\n",
              "\n",
              "    .dataframe tbody tr th {\n",
              "        vertical-align: top;\n",
              "    }\n",
              "\n",
              "    .dataframe thead th {\n",
              "        text-align: right;\n",
              "    }\n",
              "</style>\n",
              "<table border=\"1\" class=\"dataframe\">\n",
              "  <thead>\n",
              "    <tr style=\"text-align: right;\">\n",
              "      <th></th>\n",
              "      <th>Date</th>\n",
              "      <th>Open</th>\n",
              "      <th>High</th>\n",
              "      <th>Low</th>\n",
              "      <th>Close</th>\n",
              "      <th>Adj Close</th>\n",
              "      <th>Volume</th>\n",
              "    </tr>\n",
              "  </thead>\n",
              "  <tbody>\n",
              "    <tr>\n",
              "      <th>0</th>\n",
              "      <td>2021-10-04</td>\n",
              "      <td>2553.000000</td>\n",
              "      <td>2574.850098</td>\n",
              "      <td>2537.050049</td>\n",
              "      <td>2556.149902</td>\n",
              "      <td>2548.477051</td>\n",
              "      <td>5038910</td>\n",
              "    </tr>\n",
              "    <tr>\n",
              "      <th>1</th>\n",
              "      <td>2021-10-05</td>\n",
              "      <td>2555.100098</td>\n",
              "      <td>2612.000000</td>\n",
              "      <td>2547.350098</td>\n",
              "      <td>2609.199951</td>\n",
              "      <td>2601.367920</td>\n",
              "      <td>6245770</td>\n",
              "    </tr>\n",
              "    <tr>\n",
              "      <th>2</th>\n",
              "      <td>2021-10-06</td>\n",
              "      <td>2619.949951</td>\n",
              "      <td>2619.949951</td>\n",
              "      <td>2551.100098</td>\n",
              "      <td>2559.850098</td>\n",
              "      <td>2552.166260</td>\n",
              "      <td>4734472</td>\n",
              "    </tr>\n",
              "    <tr>\n",
              "      <th>3</th>\n",
              "      <td>2021-10-07</td>\n",
              "      <td>2595.000000</td>\n",
              "      <td>2598.750000</td>\n",
              "      <td>2567.699951</td>\n",
              "      <td>2572.399902</td>\n",
              "      <td>2564.678467</td>\n",
              "      <td>2924370</td>\n",
              "    </tr>\n",
              "    <tr>\n",
              "      <th>4</th>\n",
              "      <td>2021-10-08</td>\n",
              "      <td>2585.250000</td>\n",
              "      <td>2684.399902</td>\n",
              "      <td>2581.500000</td>\n",
              "      <td>2671.250000</td>\n",
              "      <td>2663.231689</td>\n",
              "      <td>7279003</td>\n",
              "    </tr>\n",
              "  </tbody>\n",
              "</table>\n",
              "</div>\n",
              "      <button class=\"colab-df-convert\" onclick=\"convertToInteractive('df-f7a5c313-ea30-4929-9366-5c5630919695')\"\n",
              "              title=\"Convert this dataframe to an interactive table.\"\n",
              "              style=\"display:none;\">\n",
              "        \n",
              "  <svg xmlns=\"http://www.w3.org/2000/svg\" height=\"24px\"viewBox=\"0 0 24 24\"\n",
              "       width=\"24px\">\n",
              "    <path d=\"M0 0h24v24H0V0z\" fill=\"none\"/>\n",
              "    <path d=\"M18.56 5.44l.94 2.06.94-2.06 2.06-.94-2.06-.94-.94-2.06-.94 2.06-2.06.94zm-11 1L8.5 8.5l.94-2.06 2.06-.94-2.06-.94L8.5 2.5l-.94 2.06-2.06.94zm10 10l.94 2.06.94-2.06 2.06-.94-2.06-.94-.94-2.06-.94 2.06-2.06.94z\"/><path d=\"M17.41 7.96l-1.37-1.37c-.4-.4-.92-.59-1.43-.59-.52 0-1.04.2-1.43.59L10.3 9.45l-7.72 7.72c-.78.78-.78 2.05 0 2.83L4 21.41c.39.39.9.59 1.41.59.51 0 1.02-.2 1.41-.59l7.78-7.78 2.81-2.81c.8-.78.8-2.07 0-2.86zM5.41 20L4 18.59l7.72-7.72 1.47 1.35L5.41 20z\"/>\n",
              "  </svg>\n",
              "      </button>\n",
              "      \n",
              "  <style>\n",
              "    .colab-df-container {\n",
              "      display:flex;\n",
              "      flex-wrap:wrap;\n",
              "      gap: 12px;\n",
              "    }\n",
              "\n",
              "    .colab-df-convert {\n",
              "      background-color: #E8F0FE;\n",
              "      border: none;\n",
              "      border-radius: 50%;\n",
              "      cursor: pointer;\n",
              "      display: none;\n",
              "      fill: #1967D2;\n",
              "      height: 32px;\n",
              "      padding: 0 0 0 0;\n",
              "      width: 32px;\n",
              "    }\n",
              "\n",
              "    .colab-df-convert:hover {\n",
              "      background-color: #E2EBFA;\n",
              "      box-shadow: 0px 1px 2px rgba(60, 64, 67, 0.3), 0px 1px 3px 1px rgba(60, 64, 67, 0.15);\n",
              "      fill: #174EA6;\n",
              "    }\n",
              "\n",
              "    [theme=dark] .colab-df-convert {\n",
              "      background-color: #3B4455;\n",
              "      fill: #D2E3FC;\n",
              "    }\n",
              "\n",
              "    [theme=dark] .colab-df-convert:hover {\n",
              "      background-color: #434B5C;\n",
              "      box-shadow: 0px 1px 3px 1px rgba(0, 0, 0, 0.15);\n",
              "      filter: drop-shadow(0px 1px 2px rgba(0, 0, 0, 0.3));\n",
              "      fill: #FFFFFF;\n",
              "    }\n",
              "  </style>\n",
              "\n",
              "      <script>\n",
              "        const buttonEl =\n",
              "          document.querySelector('#df-f7a5c313-ea30-4929-9366-5c5630919695 button.colab-df-convert');\n",
              "        buttonEl.style.display =\n",
              "          google.colab.kernel.accessAllowed ? 'block' : 'none';\n",
              "\n",
              "        async function convertToInteractive(key) {\n",
              "          const element = document.querySelector('#df-f7a5c313-ea30-4929-9366-5c5630919695');\n",
              "          const dataTable =\n",
              "            await google.colab.kernel.invokeFunction('convertToInteractive',\n",
              "                                                     [key], {});\n",
              "          if (!dataTable) return;\n",
              "\n",
              "          const docLinkHtml = 'Like what you see? Visit the ' +\n",
              "            '<a target=\"_blank\" href=https://colab.research.google.com/notebooks/data_table.ipynb>data table notebook</a>'\n",
              "            + ' to learn more about interactive tables.';\n",
              "          element.innerHTML = '';\n",
              "          dataTable['output_type'] = 'display_data';\n",
              "          await google.colab.output.renderOutput(dataTable, element);\n",
              "          const docLink = document.createElement('div');\n",
              "          docLink.innerHTML = docLinkHtml;\n",
              "          element.appendChild(docLink);\n",
              "        }\n",
              "      </script>\n",
              "    </div>\n",
              "  </div>\n",
              "  "
            ]
          },
          "metadata": {},
          "execution_count": 3
        }
      ]
    },
    {
      "cell_type": "code",
      "source": [
        "df.info()"
      ],
      "metadata": {
        "colab": {
          "base_uri": "https://localhost:8080/"
        },
        "id": "nNZsCHE0CepU",
        "outputId": "41166b79-217d-4a7e-c037-990952f161b6"
      },
      "execution_count": 4,
      "outputs": [
        {
          "output_type": "stream",
          "name": "stdout",
          "text": [
            "<class 'pandas.core.frame.DataFrame'>\n",
            "RangeIndex: 250 entries, 0 to 249\n",
            "Data columns (total 7 columns):\n",
            " #   Column     Non-Null Count  Dtype  \n",
            "---  ------     --------------  -----  \n",
            " 0   Date       250 non-null    object \n",
            " 1   Open       250 non-null    float64\n",
            " 2   High       250 non-null    float64\n",
            " 3   Low        250 non-null    float64\n",
            " 4   Close      250 non-null    float64\n",
            " 5   Adj Close  250 non-null    float64\n",
            " 6   Volume     250 non-null    int64  \n",
            "dtypes: float64(5), int64(1), object(1)\n",
            "memory usage: 13.8+ KB\n"
          ]
        }
      ]
    },
    {
      "cell_type": "markdown",
      "source": [
        "**Sort dataset acc to Date in descending**"
      ],
      "metadata": {
        "id": "6O34MDD8Ckmu"
      }
    },
    {
      "cell_type": "code",
      "source": [
        "df.sort_values('Date', inplace= True)"
      ],
      "metadata": {
        "id": "ZrsA-YnyCnUc"
      },
      "execution_count": 5,
      "outputs": []
    },
    {
      "cell_type": "code",
      "source": [
        "df.head()"
      ],
      "metadata": {
        "colab": {
          "base_uri": "https://localhost:8080/",
          "height": 206
        },
        "id": "11yS5iK_CrbV",
        "outputId": "d09f7b84-e6d2-44e2-827e-35f59968267a"
      },
      "execution_count": 6,
      "outputs": [
        {
          "output_type": "execute_result",
          "data": {
            "text/plain": [
              "         Date         Open         High          Low        Close  \\\n",
              "0  2021-10-04  2553.000000  2574.850098  2537.050049  2556.149902   \n",
              "1  2021-10-05  2555.100098  2612.000000  2547.350098  2609.199951   \n",
              "2  2021-10-06  2619.949951  2619.949951  2551.100098  2559.850098   \n",
              "3  2021-10-07  2595.000000  2598.750000  2567.699951  2572.399902   \n",
              "4  2021-10-08  2585.250000  2684.399902  2581.500000  2671.250000   \n",
              "\n",
              "     Adj Close   Volume  \n",
              "0  2548.477051  5038910  \n",
              "1  2601.367920  6245770  \n",
              "2  2552.166260  4734472  \n",
              "3  2564.678467  2924370  \n",
              "4  2663.231689  7279003  "
            ],
            "text/html": [
              "\n",
              "  <div id=\"df-8372b613-88f9-4beb-a326-60e20a64f527\">\n",
              "    <div class=\"colab-df-container\">\n",
              "      <div>\n",
              "<style scoped>\n",
              "    .dataframe tbody tr th:only-of-type {\n",
              "        vertical-align: middle;\n",
              "    }\n",
              "\n",
              "    .dataframe tbody tr th {\n",
              "        vertical-align: top;\n",
              "    }\n",
              "\n",
              "    .dataframe thead th {\n",
              "        text-align: right;\n",
              "    }\n",
              "</style>\n",
              "<table border=\"1\" class=\"dataframe\">\n",
              "  <thead>\n",
              "    <tr style=\"text-align: right;\">\n",
              "      <th></th>\n",
              "      <th>Date</th>\n",
              "      <th>Open</th>\n",
              "      <th>High</th>\n",
              "      <th>Low</th>\n",
              "      <th>Close</th>\n",
              "      <th>Adj Close</th>\n",
              "      <th>Volume</th>\n",
              "    </tr>\n",
              "  </thead>\n",
              "  <tbody>\n",
              "    <tr>\n",
              "      <th>0</th>\n",
              "      <td>2021-10-04</td>\n",
              "      <td>2553.000000</td>\n",
              "      <td>2574.850098</td>\n",
              "      <td>2537.050049</td>\n",
              "      <td>2556.149902</td>\n",
              "      <td>2548.477051</td>\n",
              "      <td>5038910</td>\n",
              "    </tr>\n",
              "    <tr>\n",
              "      <th>1</th>\n",
              "      <td>2021-10-05</td>\n",
              "      <td>2555.100098</td>\n",
              "      <td>2612.000000</td>\n",
              "      <td>2547.350098</td>\n",
              "      <td>2609.199951</td>\n",
              "      <td>2601.367920</td>\n",
              "      <td>6245770</td>\n",
              "    </tr>\n",
              "    <tr>\n",
              "      <th>2</th>\n",
              "      <td>2021-10-06</td>\n",
              "      <td>2619.949951</td>\n",
              "      <td>2619.949951</td>\n",
              "      <td>2551.100098</td>\n",
              "      <td>2559.850098</td>\n",
              "      <td>2552.166260</td>\n",
              "      <td>4734472</td>\n",
              "    </tr>\n",
              "    <tr>\n",
              "      <th>3</th>\n",
              "      <td>2021-10-07</td>\n",
              "      <td>2595.000000</td>\n",
              "      <td>2598.750000</td>\n",
              "      <td>2567.699951</td>\n",
              "      <td>2572.399902</td>\n",
              "      <td>2564.678467</td>\n",
              "      <td>2924370</td>\n",
              "    </tr>\n",
              "    <tr>\n",
              "      <th>4</th>\n",
              "      <td>2021-10-08</td>\n",
              "      <td>2585.250000</td>\n",
              "      <td>2684.399902</td>\n",
              "      <td>2581.500000</td>\n",
              "      <td>2671.250000</td>\n",
              "      <td>2663.231689</td>\n",
              "      <td>7279003</td>\n",
              "    </tr>\n",
              "  </tbody>\n",
              "</table>\n",
              "</div>\n",
              "      <button class=\"colab-df-convert\" onclick=\"convertToInteractive('df-8372b613-88f9-4beb-a326-60e20a64f527')\"\n",
              "              title=\"Convert this dataframe to an interactive table.\"\n",
              "              style=\"display:none;\">\n",
              "        \n",
              "  <svg xmlns=\"http://www.w3.org/2000/svg\" height=\"24px\"viewBox=\"0 0 24 24\"\n",
              "       width=\"24px\">\n",
              "    <path d=\"M0 0h24v24H0V0z\" fill=\"none\"/>\n",
              "    <path d=\"M18.56 5.44l.94 2.06.94-2.06 2.06-.94-2.06-.94-.94-2.06-.94 2.06-2.06.94zm-11 1L8.5 8.5l.94-2.06 2.06-.94-2.06-.94L8.5 2.5l-.94 2.06-2.06.94zm10 10l.94 2.06.94-2.06 2.06-.94-2.06-.94-.94-2.06-.94 2.06-2.06.94z\"/><path d=\"M17.41 7.96l-1.37-1.37c-.4-.4-.92-.59-1.43-.59-.52 0-1.04.2-1.43.59L10.3 9.45l-7.72 7.72c-.78.78-.78 2.05 0 2.83L4 21.41c.39.39.9.59 1.41.59.51 0 1.02-.2 1.41-.59l7.78-7.78 2.81-2.81c.8-.78.8-2.07 0-2.86zM5.41 20L4 18.59l7.72-7.72 1.47 1.35L5.41 20z\"/>\n",
              "  </svg>\n",
              "      </button>\n",
              "      \n",
              "  <style>\n",
              "    .colab-df-container {\n",
              "      display:flex;\n",
              "      flex-wrap:wrap;\n",
              "      gap: 12px;\n",
              "    }\n",
              "\n",
              "    .colab-df-convert {\n",
              "      background-color: #E8F0FE;\n",
              "      border: none;\n",
              "      border-radius: 50%;\n",
              "      cursor: pointer;\n",
              "      display: none;\n",
              "      fill: #1967D2;\n",
              "      height: 32px;\n",
              "      padding: 0 0 0 0;\n",
              "      width: 32px;\n",
              "    }\n",
              "\n",
              "    .colab-df-convert:hover {\n",
              "      background-color: #E2EBFA;\n",
              "      box-shadow: 0px 1px 2px rgba(60, 64, 67, 0.3), 0px 1px 3px 1px rgba(60, 64, 67, 0.15);\n",
              "      fill: #174EA6;\n",
              "    }\n",
              "\n",
              "    [theme=dark] .colab-df-convert {\n",
              "      background-color: #3B4455;\n",
              "      fill: #D2E3FC;\n",
              "    }\n",
              "\n",
              "    [theme=dark] .colab-df-convert:hover {\n",
              "      background-color: #434B5C;\n",
              "      box-shadow: 0px 1px 3px 1px rgba(0, 0, 0, 0.15);\n",
              "      filter: drop-shadow(0px 1px 2px rgba(0, 0, 0, 0.3));\n",
              "      fill: #FFFFFF;\n",
              "    }\n",
              "  </style>\n",
              "\n",
              "      <script>\n",
              "        const buttonEl =\n",
              "          document.querySelector('#df-8372b613-88f9-4beb-a326-60e20a64f527 button.colab-df-convert');\n",
              "        buttonEl.style.display =\n",
              "          google.colab.kernel.accessAllowed ? 'block' : 'none';\n",
              "\n",
              "        async function convertToInteractive(key) {\n",
              "          const element = document.querySelector('#df-8372b613-88f9-4beb-a326-60e20a64f527');\n",
              "          const dataTable =\n",
              "            await google.colab.kernel.invokeFunction('convertToInteractive',\n",
              "                                                     [key], {});\n",
              "          if (!dataTable) return;\n",
              "\n",
              "          const docLinkHtml = 'Like what you see? Visit the ' +\n",
              "            '<a target=\"_blank\" href=https://colab.research.google.com/notebooks/data_table.ipynb>data table notebook</a>'\n",
              "            + ' to learn more about interactive tables.';\n",
              "          element.innerHTML = '';\n",
              "          dataTable['output_type'] = 'display_data';\n",
              "          await google.colab.output.renderOutput(dataTable, element);\n",
              "          const docLink = document.createElement('div');\n",
              "          docLink.innerHTML = docLinkHtml;\n",
              "          element.appendChild(docLink);\n",
              "        }\n",
              "      </script>\n",
              "    </div>\n",
              "  </div>\n",
              "  "
            ]
          },
          "metadata": {},
          "execution_count": 6
        }
      ]
    },
    {
      "cell_type": "markdown",
      "source": [
        "**Visualize Price of stock over a year**\n",
        "\n",
        "**Creating new Dataset of series type of price/close with Date as index**"
      ],
      "metadata": {
        "id": "WwxP3yEvCv9-"
      }
    },
    {
      "cell_type": "code",
      "source": [
        "df['Close'].dtype"
      ],
      "metadata": {
        "colab": {
          "base_uri": "https://localhost:8080/"
        },
        "id": "Ieq9Px9ICu2c",
        "outputId": "d75f4acb-72c5-4f62-a312-bec3773d424c"
      },
      "execution_count": 7,
      "outputs": [
        {
          "output_type": "execute_result",
          "data": {
            "text/plain": [
              "dtype('float64')"
            ]
          },
          "metadata": {},
          "execution_count": 7
        }
      ]
    },
    {
      "cell_type": "code",
      "source": [
        "reliance_price = df['Close']"
      ],
      "metadata": {
        "id": "IZCnbBrcEsJD"
      },
      "execution_count": 8,
      "outputs": []
    },
    {
      "cell_type": "code",
      "source": [
        "plt.plot(reliance_price)\n",
        "\n",
        "plt.title(\"Reliance_Price\")\n",
        "plt.xlabel(\"Date\")\n",
        "plt.ylabel(\"Price/Close\")\n",
        "\n",
        "plt.show()\n"
      ],
      "metadata": {
        "colab": {
          "base_uri": "https://localhost:8080/",
          "height": 295
        },
        "id": "0m57m6TWEyNU",
        "outputId": "be08a38a-bd49-4356-ddfa-18bd73452ca8"
      },
      "execution_count": 9,
      "outputs": [
        {
          "output_type": "display_data",
          "data": {
            "text/plain": [
              "<Figure size 432x288 with 1 Axes>"
            ],
            "image/png": "[encoded data removed]"
          },
          "metadata": {
            "needs_background": "light"
          }
        }
      ]
    },
    {
      "cell_type": "code",
      "source": [
        "reliance_price"
      ],
      "metadata": {
        "colab": {
          "base_uri": "https://localhost:8080/"
        },
        "id": "UH2va1wGJVTk",
        "outputId": "c93e3345-01ad-49c2-d83b-5bc37781c834"
      },
      "execution_count": 10,
      "outputs": [
        {
          "output_type": "execute_result",
          "data": {
            "text/plain": [
              "0      2556.149902\n",
              "1      2609.199951\n",
              "2      2559.850098\n",
              "3      2572.399902\n",
              "4      2671.250000\n",
              "          ...     \n",
              "245    2332.449951\n",
              "246    2325.300049\n",
              "247    2377.750000\n",
              "248    2369.500000\n",
              "249    2413.199951\n",
              "Name: Close, Length: 250, dtype: float64"
            ]
          },
          "metadata": {},
          "execution_count": 10
        }
      ]
    },
    {
      "cell_type": "markdown",
      "source": [
        "**Convert series into DataFrame**"
      ],
      "metadata": {
        "id": "pOG1ScHUJurj"
      }
    },
    {
      "cell_type": "code",
      "source": [
        "reliance_price = pd.DataFrame(reliance_price)\n",
        "reliance_price"
      ],
      "metadata": {
        "colab": {
          "base_uri": "https://localhost:8080/",
          "height": 424
        },
        "id": "DI_oj2-7Jcjg",
        "outputId": "147eabdc-b4f1-4ed6-c446-d1b70c4f5b29"
      },
      "execution_count": 11,
      "outputs": [
        {
          "output_type": "execute_result",
          "data": {
            "text/plain": [
              "           Close\n",
              "0    2556.149902\n",
              "1    2609.199951\n",
              "2    2559.850098\n",
              "3    2572.399902\n",
              "4    2671.250000\n",
              "..           ...\n",
              "245  2332.449951\n",
              "246  2325.300049\n",
              "247  2377.750000\n",
              "248  2369.500000\n",
              "249  2413.199951\n",
              "\n",
              "[250 rows x 1 columns]"
            ],
            "text/html": [
              "\n",
              "  <div id=\"df-d24ec2ab-a983-4e91-9761-4f14a64adcce\">\n",
              "    <div class=\"colab-df-container\">\n",
              "      <div>\n",
              "<style scoped>\n",
              "    .dataframe tbody tr th:only-of-type {\n",
              "        vertical-align: middle;\n",
              "    }\n",
              "\n",
              "    .dataframe tbody tr th {\n",
              "        vertical-align: top;\n",
              "    }\n",
              "\n",
              "    .dataframe thead th {\n",
              "        text-align: right;\n",
              "    }\n",
              "</style>\n",
              "<table border=\"1\" class=\"dataframe\">\n",
              "  <thead>\n",
              "    <tr style=\"text-align: right;\">\n",
              "      <th></th>\n",
              "      <th>Close</th>\n",
              "    </tr>\n",
              "  </thead>\n",
              "  <tbody>\n",
              "    <tr>\n",
              "      <th>0</th>\n",
              "      <td>2556.149902</td>\n",
              "    </tr>\n",
              "    <tr>\n",
              "      <th>1</th>\n",
              "      <td>2609.199951</td>\n",
              "    </tr>\n",
              "    <tr>\n",
              "      <th>2</th>\n",
              "      <td>2559.850098</td>\n",
              "    </tr>\n",
              "    <tr>\n",
              "      <th>3</th>\n",
              "      <td>2572.399902</td>\n",
              "    </tr>\n",
              "    <tr>\n",
              "      <th>4</th>\n",
              "      <td>2671.250000</td>\n",
              "    </tr>\n",
              "    <tr>\n",
              "      <th>...</th>\n",
              "      <td>...</td>\n",
              "    </tr>\n",
              "    <tr>\n",
              "      <th>245</th>\n",
              "      <td>2332.449951</td>\n",
              "    </tr>\n",
              "    <tr>\n",
              "      <th>246</th>\n",
              "      <td>2325.300049</td>\n",
              "    </tr>\n",
              "    <tr>\n",
              "      <th>247</th>\n",
              "      <td>2377.750000</td>\n",
              "    </tr>\n",
              "    <tr>\n",
              "      <th>248</th>\n",
              "      <td>2369.500000</td>\n",
              "    </tr>\n",
              "    <tr>\n",
              "      <th>249</th>\n",
              "      <td>2413.199951</td>\n",
              "    </tr>\n",
              "  </tbody>\n",
              "</table>\n",
              "<p>250 rows × 1 columns</p>\n",
              "</div>\n",
              "      <button class=\"colab-df-convert\" onclick=\"convertToInteractive('df-d24ec2ab-a983-4e91-9761-4f14a64adcce')\"\n",
              "              title=\"Convert this dataframe to an interactive table.\"\n",
              "              style=\"display:none;\">\n",
              "        \n",
              "  <svg xmlns=\"http://www.w3.org/2000/svg\" height=\"24px\"viewBox=\"0 0 24 24\"\n",
              "       width=\"24px\">\n",
              "    <path d=\"M0 0h24v24H0V0z\" fill=\"none\"/>\n",
              "    <path d=\"M18.56 5.44l.94 2.06.94-2.06 2.06-.94-2.06-.94-.94-2.06-.94 2.06-2.06.94zm-11 1L8.5 8.5l.94-2.06 2.06-.94-2.06-.94L8.5 2.5l-.94 2.06-2.06.94zm10 10l.94 2.06.94-2.06 2.06-.94-2.06-.94-.94-2.06-.94 2.06-2.06.94z\"/><path d=\"M17.41 7.96l-1.37-1.37c-.4-.4-.92-.59-1.43-.59-.52 0-1.04.2-1.43.59L10.3 9.45l-7.72 7.72c-.78.78-.78 2.05 0 2.83L4 21.41c.39.39.9.59 1.41.59.51 0 1.02-.2 1.41-.59l7.78-7.78 2.81-2.81c.8-.78.8-2.07 0-2.86zM5.41 20L4 18.59l7.72-7.72 1.47 1.35L5.41 20z\"/>\n",
              "  </svg>\n",
              "      </button>\n",
              "      \n",
              "  <style>\n",
              "    .colab-df-container {\n",
              "      display:flex;\n",
              "      flex-wrap:wrap;\n",
              "      gap: 12px;\n",
              "    }\n",
              "\n",
              "    .colab-df-convert {\n",
              "      background-color: #E8F0FE;\n",
              "      border: none;\n",
              "      border-radius: 50%;\n",
              "      cursor: pointer;\n",
              "      display: none;\n",
              "      fill: #1967D2;\n",
              "      height: 32px;\n",
              "      padding: 0 0 0 0;\n",
              "      width: 32px;\n",
              "    }\n",
              "\n",
              "    .colab-df-convert:hover {\n",
              "      background-color: #E2EBFA;\n",
              "      box-shadow: 0px 1px 2px rgba(60, 64, 67, 0.3), 0px 1px 3px 1px rgba(60, 64, 67, 0.15);\n",
              "      fill: #174EA6;\n",
              "    }\n",
              "\n",
              "    [theme=dark] .colab-df-convert {\n",
              "      background-color: #3B4455;\n",
              "      fill: #D2E3FC;\n",
              "    }\n",
              "\n",
              "    [theme=dark] .colab-df-convert:hover {\n",
              "      background-color: #434B5C;\n",
              "      box-shadow: 0px 1px 3px 1px rgba(0, 0, 0, 0.15);\n",
              "      filter: drop-shadow(0px 1px 2px rgba(0, 0, 0, 0.3));\n",
              "      fill: #FFFFFF;\n",
              "    }\n",
              "  </style>\n",
              "\n",
              "      <script>\n",
              "        const buttonEl =\n",
              "          document.querySelector('#df-d24ec2ab-a983-4e91-9761-4f14a64adcce button.colab-df-convert');\n",
              "        buttonEl.style.display =\n",
              "          google.colab.kernel.accessAllowed ? 'block' : 'none';\n",
              "\n",
              "        async function convertToInteractive(key) {\n",
              "          const element = document.querySelector('#df-d24ec2ab-a983-4e91-9761-4f14a64adcce');\n",
              "          const dataTable =\n",
              "            await google.colab.kernel.invokeFunction('convertToInteractive',\n",
              "                                                     [key], {});\n",
              "          if (!dataTable) return;\n",
              "\n",
              "          const docLinkHtml = 'Like what you see? Visit the ' +\n",
              "            '<a target=\"_blank\" href=https://colab.research.google.com/notebooks/data_table.ipynb>data table notebook</a>'\n",
              "            + ' to learn more about interactive tables.';\n",
              "          element.innerHTML = '';\n",
              "          dataTable['output_type'] = 'display_data';\n",
              "          await google.colab.output.renderOutput(dataTable, element);\n",
              "          const docLink = document.createElement('div');\n",
              "          docLink.innerHTML = docLinkHtml;\n",
              "          element.appendChild(docLink);\n",
              "        }\n",
              "      </script>\n",
              "    </div>\n",
              "  </div>\n",
              "  "
            ]
          },
          "metadata": {},
          "execution_count": 11
        }
      ]
    },
    {
      "cell_type": "code",
      "source": [
        "train = reliance_price.iloc[:230]\n",
        "test = reliance_price.iloc[230:]"
      ],
      "metadata": {
        "id": "Ezo9iD4aJ0n1"
      },
      "execution_count": 12,
      "outputs": []
    },
    {
      "cell_type": "code",
      "source": [
        "train #80 percent of dataset"
      ],
      "metadata": {
        "colab": {
          "base_uri": "https://localhost:8080/",
          "height": 424
        },
        "id": "zhB67b10cOSO",
        "outputId": "ba6b3009-5bb4-403e-85e3-24cc3686d92a"
      },
      "execution_count": 13,
      "outputs": [
        {
          "output_type": "execute_result",
          "data": {
            "text/plain": [
              "           Close\n",
              "0    2556.149902\n",
              "1    2609.199951\n",
              "2    2559.850098\n",
              "3    2572.399902\n",
              "4    2671.250000\n",
              "..           ...\n",
              "225  2637.949951\n",
              "226  2560.399902\n",
              "227  2530.500000\n",
              "228  2569.800049\n",
              "229  2596.850098\n",
              "\n",
              "[230 rows x 1 columns]"
            ],
            "text/html": [
              "\n",
              "  <div id=\"df-e499a2b9-d075-4478-8d96-a30bf2c83059\">\n",
              "    <div class=\"colab-df-container\">\n",
              "      <div>\n",
              "<style scoped>\n",
              "    .dataframe tbody tr th:only-of-type {\n",
              "        vertical-align: middle;\n",
              "    }\n",
              "\n",
              "    .dataframe tbody tr th {\n",
              "        vertical-align: top;\n",
              "    }\n",
              "\n",
              "    .dataframe thead th {\n",
              "        text-align: right;\n",
              "    }\n",
              "</style>\n",
              "<table border=\"1\" class=\"dataframe\">\n",
              "  <thead>\n",
              "    <tr style=\"text-align: right;\">\n",
              "      <th></th>\n",
              "      <th>Close</th>\n",
              "    </tr>\n",
              "  </thead>\n",
              "  <tbody>\n",
              "    <tr>\n",
              "      <th>0</th>\n",
              "      <td>2556.149902</td>\n",
              "    </tr>\n",
              "    <tr>\n",
              "      <th>1</th>\n",
              "      <td>2609.199951</td>\n",
              "    </tr>\n",
              "    <tr>\n",
              "      <th>2</th>\n",
              "      <td>2559.850098</td>\n",
              "    </tr>\n",
              "    <tr>\n",
              "      <th>3</th>\n",
              "      <td>2572.399902</td>\n",
              "    </tr>\n",
              "    <tr>\n",
              "      <th>4</th>\n",
              "      <td>2671.250000</td>\n",
              "    </tr>\n",
              "    <tr>\n",
              "      <th>...</th>\n",
              "      <td>...</td>\n",
              "    </tr>\n",
              "    <tr>\n",
              "      <th>225</th>\n",
              "      <td>2637.949951</td>\n",
              "    </tr>\n",
              "    <tr>\n",
              "      <th>226</th>\n",
              "      <td>2560.399902</td>\n",
              "    </tr>\n",
              "    <tr>\n",
              "      <th>227</th>\n",
              "      <td>2530.500000</td>\n",
              "    </tr>\n",
              "    <tr>\n",
              "      <th>228</th>\n",
              "      <td>2569.800049</td>\n",
              "    </tr>\n",
              "    <tr>\n",
              "      <th>229</th>\n",
              "      <td>2596.850098</td>\n",
              "    </tr>\n",
              "  </tbody>\n",
              "</table>\n",
              "<p>230 rows × 1 columns</p>\n",
              "</div>\n",
              "      <button class=\"colab-df-convert\" onclick=\"convertToInteractive('df-e499a2b9-d075-4478-8d96-a30bf2c83059')\"\n",
              "              title=\"Convert this dataframe to an interactive table.\"\n",
              "              style=\"display:none;\">\n",
              "        \n",
              "  <svg xmlns=\"http://www.w3.org/2000/svg\" height=\"24px\"viewBox=\"0 0 24 24\"\n",
              "       width=\"24px\">\n",
              "    <path d=\"M0 0h24v24H0V0z\" fill=\"none\"/>\n",
              "    <path d=\"M18.56 5.44l.94 2.06.94-2.06 2.06-.94-2.06-.94-.94-2.06-.94 2.06-2.06.94zm-11 1L8.5 8.5l.94-2.06 2.06-.94-2.06-.94L8.5 2.5l-.94 2.06-2.06.94zm10 10l.94 2.06.94-2.06 2.06-.94-2.06-.94-.94-2.06-.94 2.06-2.06.94z\"/><path d=\"M17.41 7.96l-1.37-1.37c-.4-.4-.92-.59-1.43-.59-.52 0-1.04.2-1.43.59L10.3 9.45l-7.72 7.72c-.78.78-.78 2.05 0 2.83L4 21.41c.39.39.9.59 1.41.59.51 0 1.02-.2 1.41-.59l7.78-7.78 2.81-2.81c.8-.78.8-2.07 0-2.86zM5.41 20L4 18.59l7.72-7.72 1.47 1.35L5.41 20z\"/>\n",
              "  </svg>\n",
              "      </button>\n",
              "      \n",
              "  <style>\n",
              "    .colab-df-container {\n",
              "      display:flex;\n",
              "      flex-wrap:wrap;\n",
              "      gap: 12px;\n",
              "    }\n",
              "\n",
              "    .colab-df-convert {\n",
              "      background-color: #E8F0FE;\n",
              "      border: none;\n",
              "      border-radius: 50%;\n",
              "      cursor: pointer;\n",
              "      display: none;\n",
              "      fill: #1967D2;\n",
              "      height: 32px;\n",
              "      padding: 0 0 0 0;\n",
              "      width: 32px;\n",
              "    }\n",
              "\n",
              "    .colab-df-convert:hover {\n",
              "      background-color: #E2EBFA;\n",
              "      box-shadow: 0px 1px 2px rgba(60, 64, 67, 0.3), 0px 1px 3px 1px rgba(60, 64, 67, 0.15);\n",
              "      fill: #174EA6;\n",
              "    }\n",
              "\n",
              "    [theme=dark] .colab-df-convert {\n",
              "      background-color: #3B4455;\n",
              "      fill: #D2E3FC;\n",
              "    }\n",
              "\n",
              "    [theme=dark] .colab-df-convert:hover {\n",
              "      background-color: #434B5C;\n",
              "      box-shadow: 0px 1px 3px 1px rgba(0, 0, 0, 0.15);\n",
              "      filter: drop-shadow(0px 1px 2px rgba(0, 0, 0, 0.3));\n",
              "      fill: #FFFFFF;\n",
              "    }\n",
              "  </style>\n",
              "\n",
              "      <script>\n",
              "        const buttonEl =\n",
              "          document.querySelector('#df-e499a2b9-d075-4478-8d96-a30bf2c83059 button.colab-df-convert');\n",
              "        buttonEl.style.display =\n",
              "          google.colab.kernel.accessAllowed ? 'block' : 'none';\n",
              "\n",
              "        async function convertToInteractive(key) {\n",
              "          const element = document.querySelector('#df-e499a2b9-d075-4478-8d96-a30bf2c83059');\n",
              "          const dataTable =\n",
              "            await google.colab.kernel.invokeFunction('convertToInteractive',\n",
              "                                                     [key], {});\n",
              "          if (!dataTable) return;\n",
              "\n",
              "          const docLinkHtml = 'Like what you see? Visit the ' +\n",
              "            '<a target=\"_blank\" href=https://colab.research.google.com/notebooks/data_table.ipynb>data table notebook</a>'\n",
              "            + ' to learn more about interactive tables.';\n",
              "          element.innerHTML = '';\n",
              "          dataTable['output_type'] = 'display_data';\n",
              "          await google.colab.output.renderOutput(dataTable, element);\n",
              "          const docLink = document.createElement('div');\n",
              "          docLink.innerHTML = docLinkHtml;\n",
              "          element.appendChild(docLink);\n",
              "        }\n",
              "      </script>\n",
              "    </div>\n",
              "  </div>\n",
              "  "
            ]
          },
          "metadata": {},
          "execution_count": 13
        }
      ]
    },
    {
      "cell_type": "code",
      "source": [
        "test.shape #20percent of dataset"
      ],
      "metadata": {
        "colab": {
          "base_uri": "https://localhost:8080/"
        },
        "id": "JCetbntYcaRF",
        "outputId": "92f65895-938e-49f2-de7b-f3ab01a44162"
      },
      "execution_count": 14,
      "outputs": [
        {
          "output_type": "execute_result",
          "data": {
            "text/plain": [
              "(20, 1)"
            ]
          },
          "metadata": {},
          "execution_count": 14
        }
      ]
    },
    {
      "cell_type": "markdown",
      "source": [
        "**Scaling of dataset for Neural Network**"
      ],
      "metadata": {
        "id": "IJRBNlepcnef"
      }
    },
    {
      "cell_type": "code",
      "source": [
        "from sklearn.preprocessing import MinMaxScaler\n",
        "scaler = MinMaxScaler()\n",
        "scaled_train = scaler.fit_transform(train)\n",
        "scaled_test = scaler.transform(test)"
      ],
      "metadata": {
        "id": "mPVvm-CVceY_"
      },
      "execution_count": 15,
      "outputs": []
    },
    {
      "cell_type": "markdown",
      "source": [
        "**Create TimeSeriesGenerator for time series problem**"
      ],
      "metadata": {
        "id": "WhyweKKDcuQm"
      }
    },
    {
      "cell_type": "code",
      "source": [
        "from tensorflow.keras.preprocessing.sequence import TimeseriesGenerator"
      ],
      "metadata": {
        "id": "AW3M8jGXcjtw"
      },
      "execution_count": 16,
      "outputs": []
    },
    {
      "cell_type": "code",
      "source": [
        "length = 20\n",
        "batch_size = 30\n",
        "\n",
        "generator = TimeseriesGenerator(scaled_train, scaled_train, length= length, batch_size= batch_size)"
      ],
      "metadata": {
        "id": "gYUP7HROdCsK"
      },
      "execution_count": 17,
      "outputs": []
    },
    {
      "cell_type": "markdown",
      "source": [
        "**Model Creation**"
      ],
      "metadata": {
        "id": "K1jsyZIDd_s2"
      }
    },
    {
      "cell_type": "code",
      "source": [
        "from tensorflow.keras.models import Sequential\n",
        "from tensorflow.keras.layers import Dense, SimpleRNN, LSTM, Dropout"
      ],
      "metadata": {
        "id": "OeaWk4Sod9xV"
      },
      "execution_count": 18,
      "outputs": []
    },
    {
      "cell_type": "markdown",
      "source": [
        "**SimpleRNN model Creation**"
      ],
      "metadata": {
        "id": "tNroerFyeFvu"
      }
    },
    {
      "cell_type": "code",
      "source": [
        "n_features = 1"
      ],
      "metadata": {
        "id": "xY_W0CdReC3t"
      },
      "execution_count": 19,
      "outputs": []
    },
    {
      "cell_type": "code",
      "source": [
        "model = Sequential()\n",
        "\n",
        "model.add(SimpleRNN(30, input_shape= (length, n_features)))\n",
        "model.add(Dropout(0.2))\n",
        "model.add(Dense(1))\n",
        "\n",
        "model.compile(optimizer= 'adam', loss= 'mse')"
      ],
      "metadata": {
        "id": "-F6502DJeJd3"
      },
      "execution_count": 20,
      "outputs": []
    },
    {
      "cell_type": "code",
      "source": [
        "model.summary()"
      ],
      "metadata": {
        "colab": {
          "base_uri": "https://localhost:8080/"
        },
        "id": "1lLEoW1KeL9I",
        "outputId": "c3c3db75-0de2-4e45-c635-4329146490e4"
      },
      "execution_count": 21,
      "outputs": [
        {
          "output_type": "stream",
          "name": "stdout",
          "text": [
            "Model: \"sequential\"\n",
            "_________________________________________________________________\n",
            " Layer (type)                Output Shape              Param #   \n",
            "=================================================================\n",
            " simple_rnn (SimpleRNN)      (None, 30)                960       \n",
            "                                                                 \n",
            " dropout (Dropout)           (None, 30)                0         \n",
            "                                                                 \n",
            " dense (Dense)               (None, 1)                 31        \n",
            "                                                                 \n",
            "=================================================================\n",
            "Total params: 991\n",
            "Trainable params: 991\n",
            "Non-trainable params: 0\n",
            "_________________________________________________________________\n"
          ]
        }
      ]
    },
    {
      "cell_type": "code",
      "source": [
        "model.fit_generator(generator, epochs= 10, shuffle= False)"
      ],
      "metadata": {
        "colab": {
          "base_uri": "https://localhost:8080/"
        },
        "id": "X8ZFppknePpd",
        "outputId": "5f3ee0fe-5f94-41ed-e369-4b0975034d63"
      },
      "execution_count": 22,
      "outputs": [
        {
          "output_type": "stream",
          "name": "stderr",
          "text": [
            "/usr/local/lib/python3.7/dist-packages/ipykernel_launcher.py:1: UserWarning: `Model.fit_generator` is deprecated and will be removed in a future version. Please use `Model.fit`, which supports generators.\n",
            "  \"\"\"Entry point for launching an IPython kernel.\n"
          ]
        },
        {
          "output_type": "stream",
          "name": "stdout",
          "text": [
            "Epoch 1/10\n",
            "7/7 [==============================] - 2s 10ms/step - loss: 0.1703\n",
            "Epoch 2/10\n",
            "7/7 [==============================] - 0s 8ms/step - loss: 0.0670\n",
            "Epoch 3/10\n",
            "7/7 [==============================] - 0s 8ms/step - loss: 0.0635\n",
            "Epoch 4/10\n",
            "7/7 [==============================] - 0s 10ms/step - loss: 0.0546\n",
            "Epoch 5/10\n",
            "7/7 [==============================] - 0s 13ms/step - loss: 0.0387\n",
            "Epoch 6/10\n",
            "7/7 [==============================] - 0s 11ms/step - loss: 0.0409\n",
            "Epoch 7/10\n",
            "7/7 [==============================] - 0s 11ms/step - loss: 0.0376\n",
            "Epoch 8/10\n",
            "7/7 [==============================] - 0s 11ms/step - loss: 0.0351\n",
            "Epoch 9/10\n",
            "7/7 [==============================] - 0s 13ms/step - loss: 0.0320\n",
            "Epoch 10/10\n",
            "7/7 [==============================] - 0s 8ms/step - loss: 0.0281\n"
          ]
        },
        {
          "output_type": "execute_result",
          "data": {
            "text/plain": [
              "<keras.callbacks.History at 0x7f99341feb50>"
            ]
          },
          "metadata": {},
          "execution_count": 22
        }
      ]
    },
    {
      "cell_type": "code",
      "source": [
        "loss_df= pd.DataFrame(model.history.history)\n",
        "plt.plot(loss_df)"
      ],
      "metadata": {
        "colab": {
          "base_uri": "https://localhost:8080/",
          "height": 282
        },
        "id": "unmkR4_Ceb7F",
        "outputId": "a172a87c-34ee-4db3-cede-ca6908e7a9bc"
      },
      "execution_count": 23,
      "outputs": [
        {
          "output_type": "execute_result",
          "data": {
            "text/plain": [
              "[<matplotlib.lines.Line2D at 0x7f992d397250>]"
            ]
          },
          "metadata": {},
          "execution_count": 23
        },
        {
          "output_type": "display_data",
          "data": {
            "text/plain": [
              "<Figure size 432x288 with 1 Axes>"
            ],
            "image/png": "[encoded data removed]"
          },
          "metadata": {
            "needs_background": "light"
          }
        }
      ]
    },
    {
      "cell_type": "code",
      "source": [
        "first_batch_prediction = scaled_train[-length:]\n",
        "first_batch_prediction = first_batch_prediction.reshape((1,length,1))\n",
        "first_batch_prediction.shape"
      ],
      "metadata": {
        "colab": {
          "base_uri": "https://localhost:8080/"
        },
        "id": "dBFrdaQbe-hn",
        "outputId": "945f9b31-8bdb-4a95-de21-c61bcc9c022d"
      },
      "execution_count": 24,
      "outputs": [
        {
          "output_type": "execute_result",
          "data": {
            "text/plain": [
              "(1, 20, 1)"
            ]
          },
          "metadata": {},
          "execution_count": 24
        }
      ]
    },
    {
      "cell_type": "code",
      "source": [
        "model.predict(first_batch_prediction)"
      ],
      "metadata": {
        "colab": {
          "base_uri": "https://localhost:8080/"
        },
        "id": "uJDaOT14fEjo",
        "outputId": "b61c2664-cd9a-4be4-8105-43c008a01c19"
      },
      "execution_count": 25,
      "outputs": [
        {
          "output_type": "stream",
          "name": "stdout",
          "text": [
            "1/1 [==============================] - 0s 384ms/step\n"
          ]
        },
        {
          "output_type": "execute_result",
          "data": {
            "text/plain": [
              "array([[0.49014443]], dtype=float32)"
            ]
          },
          "metadata": {},
          "execution_count": 25
        }
      ]
    },
    {
      "cell_type": "code",
      "source": [
        "scaled_test[0]"
      ],
      "metadata": {
        "colab": {
          "base_uri": "https://localhost:8080/"
        },
        "id": "31J6hSMIfH5t",
        "outputId": "264e9f84-3fb9-438b-c35f-510b5fe53877"
      },
      "execution_count": 26,
      "outputs": [
        {
          "output_type": "execute_result",
          "data": {
            "text/plain": [
              "array([0.59253862])"
            ]
          },
          "metadata": {},
          "execution_count": 26
        }
      ]
    },
    {
      "cell_type": "code",
      "source": [
        "test_predictions = []\n",
        "\n",
        "first_batch = scaled_train[-length:]\n",
        "curr_batch = first_batch.reshape((1,length,n_features))\n",
        "\n",
        "for i in range(len(test)):\n",
        "  curr_pred = model.predict(curr_batch)[0]\n",
        "\n",
        "  test_predictions.append(curr_pred)\n",
        "  \n",
        "curr_batch = np.append(curr_batch[:,1:,:], [[curr_pred]], axis=1)"
      ],
      "metadata": {
        "id": "sue7o7iEfMIc",
        "colab": {
          "base_uri": "https://localhost:8080/"
        },
        "outputId": "d34c1edf-154e-433d-8bef-4739d1c6f976"
      },
      "execution_count": 27,
      "outputs": [
        {
          "output_type": "stream",
          "name": "stdout",
          "text": [
            "1/1 [==============================] - 0s 27ms/step\n",
            "1/1 [==============================] - 0s 33ms/step\n",
            "1/1 [==============================] - 0s 42ms/step\n",
            "1/1 [==============================] - 0s 44ms/step\n",
            "1/1 [==============================] - 0s 42ms/step\n",
            "1/1 [==============================] - 0s 90ms/step\n",
            "1/1 [==============================] - 0s 27ms/step\n",
            "1/1 [==============================] - 0s 45ms/step\n",
            "1/1 [==============================] - 0s 34ms/step\n",
            "1/1 [==============================] - 0s 29ms/step\n",
            "1/1 [==============================] - 0s 66ms/step\n",
            "1/1 [==============================] - 0s 33ms/step\n",
            "1/1 [==============================] - 0s 58ms/step\n",
            "1/1 [==============================] - 0s 59ms/step\n",
            "1/1 [==============================] - 0s 34ms/step\n",
            "1/1 [==============================] - 0s 32ms/step\n",
            "1/1 [==============================] - 0s 48ms/step\n",
            "1/1 [==============================] - 0s 58ms/step\n",
            "1/1 [==============================] - 0s 55ms/step\n",
            "1/1 [==============================] - 0s 42ms/step\n"
          ]
        }
      ]
    },
    {
      "cell_type": "code",
      "source": [
        "test_predictions"
      ],
      "metadata": {
        "colab": {
          "base_uri": "https://localhost:8080/"
        },
        "id": "W9IaZbNGfafG",
        "outputId": "eabff990-ab28-4935-e5ed-fa41cd01fed7"
      },
      "execution_count": 28,
      "outputs": [
        {
          "output_type": "execute_result",
          "data": {
            "text/plain": [
              "[array([0.49014443], dtype=float32),\n",
              " array([0.49014443], dtype=float32),\n",
              " array([0.49014443], dtype=float32),\n",
              " array([0.49014443], dtype=float32),\n",
              " array([0.49014443], dtype=float32),\n",
              " array([0.49014443], dtype=float32),\n",
              " array([0.49014443], dtype=float32),\n",
              " array([0.49014443], dtype=float32),\n",
              " array([0.49014443], dtype=float32),\n",
              " array([0.49014443], dtype=float32),\n",
              " array([0.49014443], dtype=float32),\n",
              " array([0.49014443], dtype=float32),\n",
              " array([0.49014443], dtype=float32),\n",
              " array([0.49014443], dtype=float32),\n",
              " array([0.49014443], dtype=float32),\n",
              " array([0.49014443], dtype=float32),\n",
              " array([0.49014443], dtype=float32),\n",
              " array([0.49014443], dtype=float32),\n",
              " array([0.49014443], dtype=float32),\n",
              " array([0.49014443], dtype=float32)]"
            ]
          },
          "metadata": {},
          "execution_count": 28
        }
      ]
    },
    {
      "cell_type": "code",
      "source": [
        "import math\n",
        "from sklearn.metrics import mean_squared_error, mean_absolute_error\n",
        "print('MSE :', mean_squared_error(scaled_test, test_predictions))\n",
        "print('RMES :', math.sqrt(mean_squared_error(scaled_test, test_predictions)))\n",
        "print('MAS :', mean_absolute_error(scaled_test, test_predictions))"
      ],
      "metadata": {
        "colab": {
          "base_uri": "https://localhost:8080/"
        },
        "id": "VuoD1IUxfhYm",
        "outputId": "1585f159-85fa-480c-855e-de27b56d44e0"
      },
      "execution_count": 29,
      "outputs": [
        {
          "output_type": "stream",
          "name": "stdout",
          "text": [
            "MSE : 0.03043678148968155\n",
            "RMES : 0.17446140401155077\n",
            "MAS : 0.1459010264259637\n"
          ]
        }
      ]
    },
    {
      "cell_type": "code",
      "source": [
        "test_predictions = scaler.inverse_transform(test_predictions)"
      ],
      "metadata": {
        "id": "nBN4vvJ_fkau"
      },
      "execution_count": 30,
      "outputs": []
    },
    {
      "cell_type": "code",
      "source": [
        "test['RNN_prediction'] = test_predictions"
      ],
      "metadata": {
        "colab": {
          "base_uri": "https://localhost:8080/"
        },
        "id": "3vyXrhyOfoRd",
        "outputId": "403da1de-977a-4856-ac79-155c826eb6b8"
      },
      "execution_count": 31,
      "outputs": [
        {
          "output_type": "stream",
          "name": "stderr",
          "text": [
            "/usr/local/lib/python3.7/dist-packages/ipykernel_launcher.py:1: SettingWithCopyWarning: \n",
            "A value is trying to be set on a copy of a slice from a DataFrame.\n",
            "Try using .loc[row_indexer,col_indexer] = value instead\n",
            "\n",
            "See the caveats in the documentation: https://pandas.pydata.org/pandas-docs/stable/user_guide/indexing.html#returning-a-view-versus-a-copy\n",
            "  \"\"\"Entry point for launching an IPython kernel.\n"
          ]
        }
      ]
    },
    {
      "cell_type": "code",
      "source": [
        "test"
      ],
      "metadata": {
        "colab": {
          "base_uri": "https://localhost:8080/",
          "height": 676
        },
        "id": "PtV4gq7pfqfV",
        "outputId": "1a3caa60-0303-4971-a6d2-550791d7788c"
      },
      "execution_count": 32,
      "outputs": [
        {
          "output_type": "execute_result",
          "data": {
            "text/plain": [
              "           Close  RNN_prediction\n",
              "230  2581.750000     2521.915947\n",
              "231  2585.399902     2521.915947\n",
              "232  2569.300049     2521.915947\n",
              "233  2598.050049     2521.915947\n",
              "234  2619.750000     2521.915947\n",
              "235  2588.350098     2521.915947\n",
              "236  2562.699951     2521.915947\n",
              "237  2499.199951     2521.915947\n",
              "238  2502.449951     2521.915947\n",
              "239  2502.850098     2521.915947\n",
              "240  2509.750000     2521.915947\n",
              "241  2486.100098     2521.915947\n",
              "242  2439.500000     2521.915947\n",
              "243  2377.350098     2521.915947\n",
              "244  2396.250000     2521.915947\n",
              "245  2332.449951     2521.915947\n",
              "246  2325.300049     2521.915947\n",
              "247  2377.750000     2521.915947\n",
              "248  2369.500000     2521.915947\n",
              "249  2413.199951     2521.915947"
            ],
            "text/html": [
              "\n",
              "  <div id=\"df-27f81018-92af-42a5-8b78-a7ec07b0d4f5\">\n",
              "    <div class=\"colab-df-container\">\n",
              "      <div>\n",
              "<style scoped>\n",
              "    .dataframe tbody tr th:only-of-type {\n",
              "        vertical-align: middle;\n",
              "    }\n",
              "\n",
              "    .dataframe tbody tr th {\n",
              "        vertical-align: top;\n",
              "    }\n",
              "\n",
              "    .dataframe thead th {\n",
              "        text-align: right;\n",
              "    }\n",
              "</style>\n",
              "<table border=\"1\" class=\"dataframe\">\n",
              "  <thead>\n",
              "    <tr style=\"text-align: right;\">\n",
              "      <th></th>\n",
              "      <th>Close</th>\n",
              "      <th>RNN_prediction</th>\n",
              "    </tr>\n",
              "  </thead>\n",
              "  <tbody>\n",
              "    <tr>\n",
              "      <th>230</th>\n",
              "      <td>2581.750000</td>\n",
              "      <td>2521.915947</td>\n",
              "    </tr>\n",
              "    <tr>\n",
              "      <th>231</th>\n",
              "      <td>2585.399902</td>\n",
              "      <td>2521.915947</td>\n",
              "    </tr>\n",
              "    <tr>\n",
              "      <th>232</th>\n",
              "      <td>2569.300049</td>\n",
              "      <td>2521.915947</td>\n",
              "    </tr>\n",
              "    <tr>\n",
              "      <th>233</th>\n",
              "      <td>2598.050049</td>\n",
              "      <td>2521.915947</td>\n",
              "    </tr>\n",
              "    <tr>\n",
              "      <th>234</th>\n",
              "      <td>2619.750000</td>\n",
              "      <td>2521.915947</td>\n",
              "    </tr>\n",
              "    <tr>\n",
              "      <th>235</th>\n",
              "      <td>2588.350098</td>\n",
              "      <td>2521.915947</td>\n",
              "    </tr>\n",
              "    <tr>\n",
              "      <th>236</th>\n",
              "      <td>2562.699951</td>\n",
              "      <td>2521.915947</td>\n",
              "    </tr>\n",
              "    <tr>\n",
              "      <th>237</th>\n",
              "      <td>2499.199951</td>\n",
              "      <td>2521.915947</td>\n",
              "    </tr>\n",
              "    <tr>\n",
              "      <th>238</th>\n",
              "      <td>2502.449951</td>\n",
              "      <td>2521.915947</td>\n",
              "    </tr>\n",
              "    <tr>\n",
              "      <th>239</th>\n",
              "      <td>2502.850098</td>\n",
              "      <td>2521.915947</td>\n",
              "    </tr>\n",
              "    <tr>\n",
              "      <th>240</th>\n",
              "      <td>2509.750000</td>\n",
              "      <td>2521.915947</td>\n",
              "    </tr>\n",
              "    <tr>\n",
              "      <th>241</th>\n",
              "      <td>2486.100098</td>\n",
              "      <td>2521.915947</td>\n",
              "    </tr>\n",
              "    <tr>\n",
              "      <th>242</th>\n",
              "      <td>2439.500000</td>\n",
              "      <td>2521.915947</td>\n",
              "    </tr>\n",
              "    <tr>\n",
              "      <th>243</th>\n",
              "      <td>2377.350098</td>\n",
              "      <td>2521.915947</td>\n",
              "    </tr>\n",
              "    <tr>\n",
              "      <th>244</th>\n",
              "      <td>2396.250000</td>\n",
              "      <td>2521.915947</td>\n",
              "    </tr>\n",
              "    <tr>\n",
              "      <th>245</th>\n",
              "      <td>2332.449951</td>\n",
              "      <td>2521.915947</td>\n",
              "    </tr>\n",
              "    <tr>\n",
              "      <th>246</th>\n",
              "      <td>2325.300049</td>\n",
              "      <td>2521.915947</td>\n",
              "    </tr>\n",
              "    <tr>\n",
              "      <th>247</th>\n",
              "      <td>2377.750000</td>\n",
              "      <td>2521.915947</td>\n",
              "    </tr>\n",
              "    <tr>\n",
              "      <th>248</th>\n",
              "      <td>2369.500000</td>\n",
              "      <td>2521.915947</td>\n",
              "    </tr>\n",
              "    <tr>\n",
              "      <th>249</th>\n",
              "      <td>2413.199951</td>\n",
              "      <td>2521.915947</td>\n",
              "    </tr>\n",
              "  </tbody>\n",
              "</table>\n",
              "</div>\n",
              "      <button class=\"colab-df-convert\" onclick=\"convertToInteractive('df-27f81018-92af-42a5-8b78-a7ec07b0d4f5')\"\n",
              "              title=\"Convert this dataframe to an interactive table.\"\n",
              "              style=\"display:none;\">\n",
              "        \n",
              "  <svg xmlns=\"http://www.w3.org/2000/svg\" height=\"24px\"viewBox=\"0 0 24 24\"\n",
              "       width=\"24px\">\n",
              "    <path d=\"M0 0h24v24H0V0z\" fill=\"none\"/>\n",
              "    <path d=\"M18.56 5.44l.94 2.06.94-2.06 2.06-.94-2.06-.94-.94-2.06-.94 2.06-2.06.94zm-11 1L8.5 8.5l.94-2.06 2.06-.94-2.06-.94L8.5 2.5l-.94 2.06-2.06.94zm10 10l.94 2.06.94-2.06 2.06-.94-2.06-.94-.94-2.06-.94 2.06-2.06.94z\"/><path d=\"M17.41 7.96l-1.37-1.37c-.4-.4-.92-.59-1.43-.59-.52 0-1.04.2-1.43.59L10.3 9.45l-7.72 7.72c-.78.78-.78 2.05 0 2.83L4 21.41c.39.39.9.59 1.41.59.51 0 1.02-.2 1.41-.59l7.78-7.78 2.81-2.81c.8-.78.8-2.07 0-2.86zM5.41 20L4 18.59l7.72-7.72 1.47 1.35L5.41 20z\"/>\n",
              "  </svg>\n",
              "      </button>\n",
              "      \n",
              "  <style>\n",
              "    .colab-df-container {\n",
              "      display:flex;\n",
              "      flex-wrap:wrap;\n",
              "      gap: 12px;\n",
              "    }\n",
              "\n",
              "    .colab-df-convert {\n",
              "      background-color: #E8F0FE;\n",
              "      border: none;\n",
              "      border-radius: 50%;\n",
              "      cursor: pointer;\n",
              "      display: none;\n",
              "      fill: #1967D2;\n",
              "      height: 32px;\n",
              "      padding: 0 0 0 0;\n",
              "      width: 32px;\n",
              "    }\n",
              "\n",
              "    .colab-df-convert:hover {\n",
              "      background-color: #E2EBFA;\n",
              "      box-shadow: 0px 1px 2px rgba(60, 64, 67, 0.3), 0px 1px 3px 1px rgba(60, 64, 67, 0.15);\n",
              "      fill: #174EA6;\n",
              "    }\n",
              "\n",
              "    [theme=dark] .colab-df-convert {\n",
              "      background-color: #3B4455;\n",
              "      fill: #D2E3FC;\n",
              "    }\n",
              "\n",
              "    [theme=dark] .colab-df-convert:hover {\n",
              "      background-color: #434B5C;\n",
              "      box-shadow: 0px 1px 3px 1px rgba(0, 0, 0, 0.15);\n",
              "      filter: drop-shadow(0px 1px 2px rgba(0, 0, 0, 0.3));\n",
              "      fill: #FFFFFF;\n",
              "    }\n",
              "  </style>\n",
              "\n",
              "      <script>\n",
              "        const buttonEl =\n",
              "          document.querySelector('#df-27f81018-92af-42a5-8b78-a7ec07b0d4f5 button.colab-df-convert');\n",
              "        buttonEl.style.display =\n",
              "          google.colab.kernel.accessAllowed ? 'block' : 'none';\n",
              "\n",
              "        async function convertToInteractive(key) {\n",
              "          const element = document.querySelector('#df-27f81018-92af-42a5-8b78-a7ec07b0d4f5');\n",
              "          const dataTable =\n",
              "            await google.colab.kernel.invokeFunction('convertToInteractive',\n",
              "                                                     [key], {});\n",
              "          if (!dataTable) return;\n",
              "\n",
              "          const docLinkHtml = 'Like what you see? Visit the ' +\n",
              "            '<a target=\"_blank\" href=https://colab.research.google.com/notebooks/data_table.ipynb>data table notebook</a>'\n",
              "            + ' to learn more about interactive tables.';\n",
              "          element.innerHTML = '';\n",
              "          dataTable['output_type'] = 'display_data';\n",
              "          await google.colab.output.renderOutput(dataTable, element);\n",
              "          const docLink = document.createElement('div');\n",
              "          docLink.innerHTML = docLinkHtml;\n",
              "          element.appendChild(docLink);\n",
              "        }\n",
              "      </script>\n",
              "    </div>\n",
              "  </div>\n",
              "  "
            ]
          },
          "metadata": {},
          "execution_count": 32
        }
      ]
    },
    {
      "cell_type": "code",
      "source": [
        "plt.plot(test['Close'], label ='test_val')\n",
        "plt.plot(test['RNN_prediction'], label= 'predicted_val')\n",
        "plt.legend()"
      ],
      "metadata": {
        "colab": {
          "base_uri": "https://localhost:8080/",
          "height": 282
        },
        "id": "-Xl19vOZfthe",
        "outputId": "18cb877e-c13f-4708-abe6-d7d6d93d18c9"
      },
      "execution_count": 33,
      "outputs": [
        {
          "output_type": "execute_result",
          "data": {
            "text/plain": [
              "<matplotlib.legend.Legend at 0x7f992fc8f710>"
            ]
          },
          "metadata": {},
          "execution_count": 33
        },
        {
          "output_type": "display_data",
          "data": {
            "text/plain": [
              "<Figure size 432x288 with 1 Axes>"
            ],
            "image/png": "[encoded data removed]"
          },
          "metadata": {
            "needs_background": "light"
          }
        }
      ]
    },
    {
      "cell_type": "code",
      "source": [
        "scaled_full_data = scaler.fit_transform(reliance_price)"
      ],
      "metadata": {
        "id": "VG4sXLU_f90k"
      },
      "execution_count": 34,
      "outputs": []
    },
    {
      "cell_type": "code",
      "source": [
        "generator = TimeseriesGenerator(scaled_full_data, scaled_full_data,length= length, batch_size= batch_size)"
      ],
      "metadata": {
        "id": "_kzYf6U9f_8O"
      },
      "execution_count": 35,
      "outputs": []
    },
    {
      "cell_type": "code",
      "source": [
        "model2 = Sequential()\n",
        "model2.add(SimpleRNN(30,input_shape = (length, n_features)))\n",
        "model2.add(Dropout(0.2))\n",
        "model2.add(Dense(1))\n",
        "\n",
        "model2.compile(optimizer='adam', loss='mse')\n"
      ],
      "metadata": {
        "id": "UjHcnEY1gBu1"
      },
      "execution_count": 36,
      "outputs": []
    },
    {
      "cell_type": "code",
      "source": [
        "model2.summary()"
      ],
      "metadata": {
        "colab": {
          "base_uri": "https://localhost:8080/"
        },
        "id": "V2AA4r3wgD2t",
        "outputId": "72ec0a66-945b-4e86-f543-82e4fb8d8802"
      },
      "execution_count": 37,
      "outputs": [
        {
          "output_type": "stream",
          "name": "stdout",
          "text": [
            "Model: \"sequential_1\"\n",
            "_________________________________________________________________\n",
            " Layer (type)                Output Shape              Param #   \n",
            "=================================================================\n",
            " simple_rnn_1 (SimpleRNN)    (None, 30)                960       \n",
            "                                                                 \n",
            " dropout_1 (Dropout)         (None, 30)                0         \n",
            "                                                                 \n",
            " dense_1 (Dense)             (None, 1)                 31        \n",
            "                                                                 \n",
            "=================================================================\n",
            "Total params: 991\n",
            "Trainable params: 991\n",
            "Non-trainable params: 0\n",
            "_________________________________________________________________\n"
          ]
        }
      ]
    },
    {
      "cell_type": "code",
      "source": [
        "model2.fit_generator(generator, epochs= 10, shuffle= False)"
      ],
      "metadata": {
        "colab": {
          "base_uri": "https://localhost:8080/"
        },
        "id": "6N2rThyqgHVw",
        "outputId": "6bab8728-7852-43ce-dd2e-ebb5136e9d52"
      },
      "execution_count": 38,
      "outputs": [
        {
          "output_type": "stream",
          "name": "stdout",
          "text": [
            "Epoch 1/10\n"
          ]
        },
        {
          "output_type": "stream",
          "name": "stderr",
          "text": [
            "/usr/local/lib/python3.7/dist-packages/ipykernel_launcher.py:1: UserWarning: `Model.fit_generator` is deprecated and will be removed in a future version. Please use `Model.fit`, which supports generators.\n",
            "  \"\"\"Entry point for launching an IPython kernel.\n"
          ]
        },
        {
          "output_type": "stream",
          "name": "stdout",
          "text": [
            "8/8 [==============================] - 1s 7ms/step - loss: 0.0611\n",
            "Epoch 2/10\n",
            "8/8 [==============================] - 0s 5ms/step - loss: 0.0489\n",
            "Epoch 3/10\n",
            "8/8 [==============================] - 0s 6ms/step - loss: 0.0398\n",
            "Epoch 4/10\n",
            "8/8 [==============================] - 0s 5ms/step - loss: 0.0342\n",
            "Epoch 5/10\n",
            "8/8 [==============================] - 0s 8ms/step - loss: 0.0278\n",
            "Epoch 6/10\n",
            "8/8 [==============================] - 0s 5ms/step - loss: 0.0267\n",
            "Epoch 7/10\n",
            "8/8 [==============================] - 0s 5ms/step - loss: 0.0234\n",
            "Epoch 8/10\n",
            "8/8 [==============================] - 0s 5ms/step - loss: 0.0212\n",
            "Epoch 9/10\n",
            "8/8 [==============================] - 0s 5ms/step - loss: 0.0242\n",
            "Epoch 10/10\n",
            "8/8 [==============================] - 0s 7ms/step - loss: 0.0279\n"
          ]
        },
        {
          "output_type": "execute_result",
          "data": {
            "text/plain": [
              "<keras.callbacks.History at 0x7f992fccf190>"
            ]
          },
          "metadata": {},
          "execution_count": 38
        }
      ]
    },
    {
      "cell_type": "code",
      "source": [
        "loss_df_2 = pd.DataFrame(model2.history.history)\n",
        "plt.plot(loss_df_2)"
      ],
      "metadata": {
        "colab": {
          "base_uri": "https://localhost:8080/",
          "height": 282
        },
        "id": "Ie1a6AZRgKQd",
        "outputId": "f153dbc6-5abd-4bed-c6b0-fda242d84c27"
      },
      "execution_count": 39,
      "outputs": [
        {
          "output_type": "execute_result",
          "data": {
            "text/plain": [
              "[<matplotlib.lines.Line2D at 0x7f992fd8d390>]"
            ]
          },
          "metadata": {},
          "execution_count": 39
        },
        {
          "output_type": "display_data",
          "data": {
            "text/plain": [
              "<Figure size 432x288 with 1 Axes>"
            ],
            "image/png": "[encoded data removed]"
          },
          "metadata": {
            "needs_background": "light"
          }
        }
      ]
    },
    {
      "cell_type": "markdown",
      "source": [
        "# **Model Forecast for next 20 days**"
      ],
      "metadata": {
        "id": "J23CPes0gO_b"
      }
    },
    {
      "cell_type": "code",
      "source": [
        "forecast = []\n",
        "\n",
        "first_batch = scaled_full_data[-length:]\n",
        "curr_batch = first_batch.reshape((1,length,n_features))\n",
        "\n",
        "for i in range(len(test)):\n",
        "\n",
        "  curr_pred = model2.predict(curr_batch)[0]\n",
        "\n",
        "  forecast.append(curr_pred)\n",
        "\n",
        "  curr_batch = np.append(curr_batch[:,1:,:], [[curr_pred]], axis=1)"
      ],
      "metadata": {
        "id": "ezUF28b7gUV1",
        "colab": {
          "base_uri": "https://localhost:8080/"
        },
        "outputId": "da625b18-637f-4a0c-9bcb-2bb1dfbe9d17"
      },
      "execution_count": 64,
      "outputs": [
        {
          "output_type": "stream",
          "name": "stdout",
          "text": [
            "1/1 [==============================] - 0s 18ms/step\n",
            "1/1 [==============================] - 0s 18ms/step\n",
            "1/1 [==============================] - 0s 24ms/step\n",
            "1/1 [==============================] - 0s 25ms/step\n",
            "1/1 [==============================] - 0s 18ms/step\n",
            "1/1 [==============================] - 0s 19ms/step\n",
            "1/1 [==============================] - 0s 20ms/step\n",
            "1/1 [==============================] - 0s 19ms/step\n",
            "1/1 [==============================] - 0s 21ms/step\n",
            "1/1 [==============================] - 0s 18ms/step\n",
            "1/1 [==============================] - 0s 19ms/step\n",
            "1/1 [==============================] - 0s 18ms/step\n",
            "1/1 [==============================] - 0s 20ms/step\n",
            "1/1 [==============================] - 0s 20ms/step\n",
            "1/1 [==============================] - 0s 18ms/step\n",
            "1/1 [==============================] - 0s 18ms/step\n",
            "1/1 [==============================] - 0s 18ms/step\n",
            "1/1 [==============================] - 0s 18ms/step\n",
            "1/1 [==============================] - 0s 20ms/step\n",
            "1/1 [==============================] - 0s 21ms/step\n"
          ]
        }
      ]
    },
    {
      "cell_type": "code",
      "source": [
        "forecast"
      ],
      "metadata": {
        "colab": {
          "base_uri": "https://localhost:8080/"
        },
        "id": "BEPbV-NHgZDf",
        "outputId": "a982a75d-8477-461f-bd22-a937d2e736fe"
      },
      "execution_count": 65,
      "outputs": [
        {
          "output_type": "execute_result",
          "data": {
            "text/plain": [
              "[array([0.22968817], dtype=float32),\n",
              " array([0.27373865], dtype=float32),\n",
              " array([0.3278298], dtype=float32),\n",
              " array([0.33930627], dtype=float32),\n",
              " array([0.33793885], dtype=float32),\n",
              " array([0.33754426], dtype=float32),\n",
              " array([0.39475197], dtype=float32),\n",
              " array([0.35981408], dtype=float32),\n",
              " array([0.3546062], dtype=float32),\n",
              " array([0.39028418], dtype=float32),\n",
              " array([0.4144777], dtype=float32),\n",
              " array([0.41828918], dtype=float32),\n",
              " array([0.38215336], dtype=float32),\n",
              " array([0.41428292], dtype=float32),\n",
              " array([0.44220963], dtype=float32),\n",
              " array([0.41520202], dtype=float32),\n",
              " array([0.3941898], dtype=float32),\n",
              " array([0.41057074], dtype=float32),\n",
              " array([0.43843055], dtype=float32),\n",
              " array([0.4121025], dtype=float32)]"
            ]
          },
          "metadata": {},
          "execution_count": 65
        }
      ]
    },
    {
      "cell_type": "code",
      "source": [
        "forecast = scaler.inverse_transform(forecast)\n",
        "forecast"
      ],
      "metadata": {
        "colab": {
          "base_uri": "https://localhost:8080/"
        },
        "id": "Th56eStfgbYH",
        "outputId": "741c5402-e393-488b-bb7a-537761caa580"
      },
      "execution_count": 66,
      "outputs": [
        {
          "output_type": "execute_result",
          "data": {
            "text/plain": [
              "array([[2369.71830323],\n",
              "       [2395.4592084 ],\n",
              "       [2427.06738043],\n",
              "       [2433.77364927],\n",
              "       [2432.97459729],\n",
              "       [2432.74402282],\n",
              "       [2466.17335002],\n",
              "       [2445.75739152],\n",
              "       [2442.71417426],\n",
              "       [2463.56259921],\n",
              "       [2477.70008809],\n",
              "       [2479.927326  ],\n",
              "       [2458.81135456],\n",
              "       [2477.58626372],\n",
              "       [2493.90524133],\n",
              "       [2478.12334201],\n",
              "       [2465.84485106],\n",
              "       [2475.41705256],\n",
              "       [2491.69693352],\n",
              "       [2476.31213081]])"
            ]
          },
          "metadata": {},
          "execution_count": 66
        }
      ]
    },
    {
      "cell_type": "code",
      "source": [
        "forecast.flatten()"
      ],
      "metadata": {
        "colab": {
          "base_uri": "https://localhost:8080/"
        },
        "id": "ObMY7LYegciX",
        "outputId": "d3eb2248-3ee0-41c1-9d9e-00d3cf6b2f25"
      },
      "execution_count": 67,
      "outputs": [
        {
          "output_type": "execute_result",
          "data": {
            "text/plain": [
              "array([2369.71830323, 2395.4592084 , 2427.06738043, 2433.77364927,\n",
              "       2432.97459729, 2432.74402282, 2466.17335002, 2445.75739152,\n",
              "       2442.71417426, 2463.56259921, 2477.70008809, 2479.927326  ,\n",
              "       2458.81135456, 2477.58626372, 2493.90524133, 2478.12334201,\n",
              "       2465.84485106, 2475.41705256, 2491.69693352, 2476.31213081])"
            ]
          },
          "metadata": {},
          "execution_count": 67
        }
      ]
    },
    {
      "cell_type": "code",
      "source": [
        "df_array = np.array(reliance_price)\n",
        "df_array"
      ],
      "metadata": {
        "colab": {
          "base_uri": "https://localhost:8080/"
        },
        "id": "5rfslNyfge4B",
        "outputId": "3cd5bdfe-8330-4a0e-ea2b-03492ba80081"
      },
      "execution_count": 68,
      "outputs": [
        {
          "output_type": "execute_result",
          "data": {
            "text/plain": [
              "array([[2556.149902],\n",
              "       [2609.199951],\n",
              "       [2559.850098],\n",
              "       [2572.399902],\n",
              "       [2671.25    ],\n",
              "       [2652.649902],\n",
              "       [2667.800049],\n",
              "       [2694.949951],\n",
              "       [2700.399902],\n",
              "       [2707.600098],\n",
              "       [2731.850098],\n",
              "       [2700.399902],\n",
              "       [2622.5     ],\n",
              "       [2627.399902],\n",
              "       [2601.800049],\n",
              "       [2661.050049],\n",
              "       [2627.399902],\n",
              "       [2598.600098],\n",
              "       [2536.25    ],\n",
              "       [2537.800049],\n",
              "       [2500.800049],\n",
              "       [2483.600098],\n",
              "       [2498.850098],\n",
              "       [2501.949951],\n",
              "       [2521.699951],\n",
              "       [2549.899902],\n",
              "       [2554.550049],\n",
              "       [2593.100098],\n",
              "       [2577.800049],\n",
              "       [2517.899902],\n",
              "       [2464.      ],\n",
              "       [2473.300049],\n",
              "       [2363.75    ],\n",
              "       [2385.850098],\n",
              "       [2351.399902],\n",
              "       [2492.949951],\n",
              "       [2412.600098],\n",
              "       [2441.5     ],\n",
              "       [2405.399902],\n",
              "       [2467.      ],\n",
              "       [2482.850098],\n",
              "       [2408.25    ],\n",
              "       [2362.600098],\n",
              "       [2381.850098],\n",
              "       [2418.100098],\n",
              "       [2456.449951],\n",
              "       [2458.949951],\n",
              "       [2409.649902],\n",
              "       [2380.149902],\n",
              "       [2373.199951],\n",
              "       [2403.899902],\n",
              "       [2340.449951],\n",
              "       [2277.350098],\n",
              "       [2311.25    ],\n",
              "       [2366.100098],\n",
              "       [2365.25    ],\n",
              "       [2372.800049],\n",
              "       [2370.25    ],\n",
              "       [2398.399902],\n",
              "       [2402.5     ],\n",
              "       [2359.100098],\n",
              "       [2368.149902],\n",
              "       [2403.850098],\n",
              "       [2458.100098],\n",
              "       [2469.600098],\n",
              "       [2416.5     ],\n",
              "       [2436.      ],\n",
              "       [2438.      ],\n",
              "       [2455.550049],\n",
              "       [2521.100098],\n",
              "       [2535.300049],\n",
              "       [2539.      ],\n",
              "       [2552.25    ],\n",
              "       [2521.800049],\n",
              "       [2521.600098],\n",
              "       [2477.449951],\n",
              "       [2477.850098],\n",
              "       [2377.899902],\n",
              "       [2373.25    ],\n",
              "       [2338.100098],\n",
              "       [2335.850098],\n",
              "       [2386.600098],\n",
              "       [2378.699951],\n",
              "       [2383.550049],\n",
              "       [2352.75    ],\n",
              "       [2331.300049],\n",
              "       [2317.100098],\n",
              "       [2356.050049],\n",
              "       [2383.5     ],\n",
              "       [2381.050049],\n",
              "       [2376.399902],\n",
              "       [2338.550049],\n",
              "       [2417.949951],\n",
              "       [2412.949951],\n",
              "       [2443.5     ],\n",
              "       [2424.399902],\n",
              "       [2399.899902],\n",
              "       [2389.      ],\n",
              "       [2374.050049],\n",
              "       [2255.75    ],\n",
              "       [2283.949951],\n",
              "       [2359.550049],\n",
              "       [2398.550049],\n",
              "       [2378.300049],\n",
              "       [2325.550049],\n",
              "       [2239.550049],\n",
              "       [2235.5     ],\n",
              "       [2354.100098],\n",
              "       [2392.25    ],\n",
              "       [2399.149902],\n",
              "       [2418.850098],\n",
              "       [2363.449951],\n",
              "       [2403.350098],\n",
              "       [2481.699951],\n",
              "       [2467.399902],\n",
              "       [2531.149902],\n",
              "       [2539.199951],\n",
              "       [2578.649902],\n",
              "       [2595.850098],\n",
              "       [2621.949951],\n",
              "       [2622.550049],\n",
              "       [2672.949951],\n",
              "       [2634.75    ],\n",
              "       [2655.850098],\n",
              "       [2663.699951],\n",
              "       [2626.050049],\n",
              "       [2619.050049],\n",
              "       [2572.850098],\n",
              "       [2615.649902],\n",
              "       [2610.199951],\n",
              "       [2561.050049],\n",
              "       [2551.649902],\n",
              "       [2543.850098],\n",
              "       [2640.800049],\n",
              "       [2718.449951],\n",
              "       [2782.100098],\n",
              "       [2758.800049],\n",
              "       [2695.      ],\n",
              "       [2775.649902],\n",
              "       [2778.350098],\n",
              "       [2819.850098],\n",
              "       [2790.25    ],\n",
              "       [2780.449951],\n",
              "       [2693.649902],\n",
              "       [2640.899902],\n",
              "       [2620.649902],\n",
              "       [2518.300049],\n",
              "       [2474.649902],\n",
              "       [2449.300049],\n",
              "       [2399.399902],\n",
              "       [2426.600098],\n",
              "       [2427.199951],\n",
              "       [2529.149902],\n",
              "       [2538.350098],\n",
              "       [2479.850098],\n",
              "       [2624.449951],\n",
              "       [2606.899902],\n",
              "       [2615.850098],\n",
              "       [2612.      ],\n",
              "       [2587.100098],\n",
              "       [2575.100098],\n",
              "       [2664.800049],\n",
              "       [2632.649902],\n",
              "       [2633.5     ],\n",
              "       [2724.300049],\n",
              "       [2779.5     ],\n",
              "       [2767.550049],\n",
              "       [2772.75    ],\n",
              "       [2724.050049],\n",
              "       [2798.75    ],\n",
              "       [2714.25    ],\n",
              "       [2662.899902],\n",
              "       [2628.100098],\n",
              "       [2596.300049],\n",
              "       [2560.      ],\n",
              "       [2590.      ],\n",
              "       [2543.050049],\n",
              "       [2584.100098],\n",
              "       [2505.600098],\n",
              "       [2464.949951],\n",
              "       [2500.050049],\n",
              "       [2492.649902],\n",
              "       [2527.699951],\n",
              "       [2580.149902],\n",
              "       [2595.649902],\n",
              "       [2408.699951],\n",
              "       [2413.699951],\n",
              "       [2433.25    ],\n",
              "       [2411.850098],\n",
              "       [2388.100098],\n",
              "       [2391.399902],\n",
              "       [2423.899902],\n",
              "       [2420.449951],\n",
              "       [2377.550049],\n",
              "       [2397.149902],\n",
              "       [2401.800049],\n",
              "       [2422.25    ],\n",
              "       [2437.100098],\n",
              "       [2503.      ],\n",
              "       [2486.300049],\n",
              "       [2503.100098],\n",
              "       [2420.399902],\n",
              "       [2421.5     ],\n",
              "       [2419.199951],\n",
              "       [2457.100098],\n",
              "       [2509.449951],\n",
              "       [2574.850098],\n",
              "       [2584.649902],\n",
              "       [2606.350098],\n",
              "       [2571.899902],\n",
              "       [2534.      ],\n",
              "       [2567.149902],\n",
              "       [2582.5     ],\n",
              "       [2591.100098],\n",
              "       [2633.      ],\n",
              "       [2651.300049],\n",
              "       [2665.149902],\n",
              "       [2661.300049],\n",
              "       [2613.850098],\n",
              "       [2606.600098],\n",
              "       [2646.800049],\n",
              "       [2639.75    ],\n",
              "       [2632.050049],\n",
              "       [2618.      ],\n",
              "       [2597.649902],\n",
              "       [2637.949951],\n",
              "       [2560.399902],\n",
              "       [2530.5     ],\n",
              "       [2569.800049],\n",
              "       [2596.850098],\n",
              "       [2581.75    ],\n",
              "       [2585.399902],\n",
              "       [2569.300049],\n",
              "       [2598.050049],\n",
              "       [2619.75    ],\n",
              "       [2588.350098],\n",
              "       [2562.699951],\n",
              "       [2499.199951],\n",
              "       [2502.449951],\n",
              "       [2502.850098],\n",
              "       [2509.75    ],\n",
              "       [2486.100098],\n",
              "       [2439.5     ],\n",
              "       [2377.350098],\n",
              "       [2396.25    ],\n",
              "       [2332.449951],\n",
              "       [2325.300049],\n",
              "       [2377.75    ],\n",
              "       [2369.5     ],\n",
              "       [2413.199951]])"
            ]
          },
          "metadata": {},
          "execution_count": 68
        }
      ]
    },
    {
      "cell_type": "code",
      "source": [
        "new_data = pd.DataFrame(np.concatenate((df_array, forecast)))\n",
        "plt.plot(new_data)"
      ],
      "metadata": {
        "colab": {
          "base_uri": "https://localhost:8080/",
          "height": 282
        },
        "id": "Tps-yU05gl2X",
        "outputId": "56865c35-cf69-43e6-babc-a4bbde3d5b9f"
      },
      "execution_count": 69,
      "outputs": [
        {
          "output_type": "execute_result",
          "data": {
            "text/plain": [
              "[<matplotlib.lines.Line2D at 0x7f992e620410>]"
            ]
          },
          "metadata": {},
          "execution_count": 69
        },
        {
          "output_type": "display_data",
          "data": {
            "text/plain": [
              "<Figure size 432x288 with 1 Axes>"
            ],
            "image/png": "[encoded data removed]"
          },
          "metadata": {
            "needs_background": "light"
          }
        }
      ]
    },
    {
      "cell_type": "markdown",
      "source": [
        "**Creating LSTM model**"
      ],
      "metadata": {
        "id": "ZBi1u9LvgsXQ"
      }
    },
    {
      "cell_type": "code",
      "source": [
        "length = 20\n",
        "batch_size = 30\n",
        "\n",
        "generator = TimeseriesGenerator(scaled_train, scaled_train, length= length, batch_size= batch_size)"
      ],
      "metadata": {
        "id": "Xf1ej8BqgqrI"
      },
      "execution_count": 70,
      "outputs": []
    },
    {
      "cell_type": "code",
      "source": [
        "model3 = Sequential()\n",
        "\n",
        "model3.add(LSTM(30, input_shape= (length, n_features)))\n",
        "model3.add(Dropout(0.2))\n",
        "model3.add(Dense(1))\n",
        "\n",
        "model3.compile(optimizer= 'adam', loss= 'mse')"
      ],
      "metadata": {
        "id": "X6iCohoJg0CA"
      },
      "execution_count": 71,
      "outputs": []
    },
    {
      "cell_type": "code",
      "source": [
        "model3.fit_generator(generator, epochs= 10, shuffle= False)"
      ],
      "metadata": {
        "colab": {
          "base_uri": "https://localhost:8080/"
        },
        "id": "KXbThX9fg2PX",
        "outputId": "873e353a-3a25-47b4-b1b2-36d98788e3da"
      },
      "execution_count": 72,
      "outputs": [
        {
          "output_type": "stream",
          "name": "stdout",
          "text": [
            "Epoch 1/10\n"
          ]
        },
        {
          "output_type": "stream",
          "name": "stderr",
          "text": [
            "/usr/local/lib/python3.7/dist-packages/ipykernel_launcher.py:1: UserWarning: `Model.fit_generator` is deprecated and will be removed in a future version. Please use `Model.fit`, which supports generators.\n",
            "  \"\"\"Entry point for launching an IPython kernel.\n"
          ]
        },
        {
          "output_type": "stream",
          "name": "stdout",
          "text": [
            "7/7 [==============================] - 2s 10ms/step - loss: 0.2131\n",
            "Epoch 2/10\n",
            "7/7 [==============================] - 0s 11ms/step - loss: 0.1127\n",
            "Epoch 3/10\n",
            "7/7 [==============================] - 0s 11ms/step - loss: 0.0473\n",
            "Epoch 4/10\n",
            "7/7 [==============================] - 0s 11ms/step - loss: 0.0266\n",
            "Epoch 5/10\n",
            "7/7 [==============================] - 0s 11ms/step - loss: 0.0318\n",
            "Epoch 6/10\n",
            "7/7 [==============================] - 0s 10ms/step - loss: 0.0307\n",
            "Epoch 7/10\n",
            "7/7 [==============================] - 0s 10ms/step - loss: 0.0277\n",
            "Epoch 8/10\n",
            "7/7 [==============================] - 0s 10ms/step - loss: 0.0295\n",
            "Epoch 9/10\n",
            "7/7 [==============================] - 0s 13ms/step - loss: 0.0268\n",
            "Epoch 10/10\n",
            "7/7 [==============================] - 0s 11ms/step - loss: 0.0232\n"
          ]
        },
        {
          "output_type": "execute_result",
          "data": {
            "text/plain": [
              "<keras.callbacks.History at 0x7f992e6ab550>"
            ]
          },
          "metadata": {},
          "execution_count": 72
        }
      ]
    },
    {
      "cell_type": "code",
      "source": [
        "loss_df_3 = pd.DataFrame(model3.history.history)\n",
        "plt.plot(loss_df_3)\n"
      ],
      "metadata": {
        "colab": {
          "base_uri": "https://localhost:8080/",
          "height": 282
        },
        "id": "S6PgzuNgg6Ye",
        "outputId": "b3148058-d256-445d-d435-53b9c48a56c6"
      },
      "execution_count": 73,
      "outputs": [
        {
          "output_type": "execute_result",
          "data": {
            "text/plain": [
              "[<matplotlib.lines.Line2D at 0x7f992ad21710>]"
            ]
          },
          "metadata": {},
          "execution_count": 73
        },
        {
          "output_type": "display_data",
          "data": {
            "text/plain": [
              "<Figure size 432x288 with 1 Axes>"
            ],
            "image/png": "[encoded data removed]"
          },
          "metadata": {
            "needs_background": "light"
          }
        }
      ]
    },
    {
      "cell_type": "code",
      "source": [
        "test_predictions = []\n",
        "\n",
        "first_batch = scaled_train[-length:]\n",
        "curr_batch = first_batch.reshape((1,length,n_features))\n",
        "\n",
        "for i in range(len(test)):\n",
        "  # predict will return array- price at 0th and datatype at 1st index\n",
        "  curr_pred = model3.predict(curr_batch)[0]\n",
        "\n",
        "  test_predictions.append(curr_pred)\n",
        "\n",
        "  # update append(array, value)- array with droped first row and new curr_pred\n",
        "  curr_batch = np.append(curr_batch[:,1:,:], [[curr_pred]], axis=1)"
      ],
      "metadata": {
        "id": "bFtY_LgVhACN",
        "colab": {
          "base_uri": "https://localhost:8080/"
        },
        "outputId": "12427f53-f14a-4010-d6ea-1fe88b7e0396"
      },
      "execution_count": 74,
      "outputs": [
        {
          "output_type": "stream",
          "name": "stdout",
          "text": [
            "1/1 [==============================] - 0s 432ms/step\n",
            "1/1 [==============================] - 0s 19ms/step\n",
            "1/1 [==============================] - 0s 19ms/step\n",
            "1/1 [==============================] - 0s 21ms/step\n",
            "1/1 [==============================] - 0s 18ms/step\n",
            "1/1 [==============================] - 0s 18ms/step\n",
            "1/1 [==============================] - 0s 18ms/step\n",
            "1/1 [==============================] - 0s 18ms/step\n",
            "1/1 [==============================] - 0s 18ms/step\n",
            "1/1 [==============================] - 0s 18ms/step\n",
            "1/1 [==============================] - 0s 23ms/step\n",
            "1/1 [==============================] - 0s 18ms/step\n",
            "1/1 [==============================] - 0s 20ms/step\n",
            "1/1 [==============================] - 0s 21ms/step\n",
            "1/1 [==============================] - 0s 21ms/step\n",
            "1/1 [==============================] - 0s 21ms/step\n",
            "1/1 [==============================] - 0s 26ms/step\n",
            "1/1 [==============================] - 0s 21ms/step\n",
            "1/1 [==============================] - 0s 21ms/step\n",
            "1/1 [==============================] - 0s 18ms/step\n"
          ]
        }
      ]
    },
    {
      "cell_type": "code",
      "source": [
        "import math\n",
        "from sklearn.metrics import mean_squared_error, mean_absolute_error\n",
        "print('MSE :', mean_squared_error(scaled_test, test_predictions))\n",
        "print('RMES :', math.sqrt(mean_squared_error(scaled_test, test_predictions)))\n",
        "print('MAS :', mean_absolute_error(scaled_test, test_predictions))"
      ],
      "metadata": {
        "colab": {
          "base_uri": "https://localhost:8080/"
        },
        "id": "oTDEEkq5hCOE",
        "outputId": "9f7da209-7828-49ca-e612-61115f506cf2"
      },
      "execution_count": 75,
      "outputs": [
        {
          "output_type": "stream",
          "name": "stdout",
          "text": [
            "MSE : 0.028938469669776264\n",
            "RMES : 0.1701131084595666\n",
            "MAS : 0.135033077595836\n"
          ]
        }
      ]
    },
    {
      "cell_type": "code",
      "source": [
        "test_predictions = scaler.inverse_transform(test_predictions)"
      ],
      "metadata": {
        "id": "j7l5BdTlhEcN"
      },
      "execution_count": 76,
      "outputs": []
    },
    {
      "cell_type": "code",
      "source": [
        "test['LSTM_prediction'] = test_predictions\n"
      ],
      "metadata": {
        "colab": {
          "base_uri": "https://localhost:8080/"
        },
        "id": "6qbzov6ihGiv",
        "outputId": "817c63a3-a816-42c3-b09e-cffc8d43f22b"
      },
      "execution_count": 77,
      "outputs": [
        {
          "output_type": "stream",
          "name": "stderr",
          "text": [
            "/usr/local/lib/python3.7/dist-packages/ipykernel_launcher.py:1: SettingWithCopyWarning: \n",
            "A value is trying to be set on a copy of a slice from a DataFrame.\n",
            "Try using .loc[row_indexer,col_indexer] = value instead\n",
            "\n",
            "See the caveats in the documentation: https://pandas.pydata.org/pandas-docs/stable/user_guide/indexing.html#returning-a-view-versus-a-copy\n",
            "  \"\"\"Entry point for launching an IPython kernel.\n"
          ]
        }
      ]
    },
    {
      "cell_type": "code",
      "source": [
        "test"
      ],
      "metadata": {
        "colab": {
          "base_uri": "https://localhost:8080/",
          "height": 676
        },
        "id": "7DNM0HyQhIV0",
        "outputId": "00ee935d-6654-4423-a3a9-952c3bda6d93"
      },
      "execution_count": 78,
      "outputs": [
        {
          "output_type": "execute_result",
          "data": {
            "text/plain": [
              "           Close  RNN_prediction  LSTM_prediction\n",
              "230  2581.750000     2521.915947      2565.392225\n",
              "231  2585.399902     2521.915947      2561.425091\n",
              "232  2569.300049     2521.915947      2557.577527\n",
              "233  2598.050049     2521.915947      2553.916653\n",
              "234  2619.750000     2521.915947      2550.458210\n",
              "235  2588.350098     2521.915947      2547.258449\n",
              "236  2562.699951     2521.915947      2544.293895\n",
              "237  2499.199951     2521.915947      2541.555771\n",
              "238  2502.449951     2521.915947      2539.013392\n",
              "239  2502.850098     2521.915947      2536.600057\n",
              "240  2509.750000     2521.915947      2534.353767\n",
              "241  2486.100098     2521.915947      2532.326871\n",
              "242  2439.500000     2521.915947      2530.451416\n",
              "243  2377.350098     2521.915947      2528.713923\n",
              "244  2396.250000     2521.915947      2527.094503\n",
              "245  2332.449951     2521.915947      2525.574052\n",
              "246  2325.300049     2521.915947      2524.219149\n",
              "247  2377.750000     2521.915947      2522.874398\n",
              "248  2369.500000     2521.915947      2521.587047\n",
              "249  2413.199951     2521.915947      2520.439643"
            ],
            "text/html": [
              "\n",
              "  <div id=\"df-f197399e-5b97-486e-af87-741bed5c3323\">\n",
              "    <div class=\"colab-df-container\">\n",
              "      <div>\n",
              "<style scoped>\n",
              "    .dataframe tbody tr th:only-of-type {\n",
              "        vertical-align: middle;\n",
              "    }\n",
              "\n",
              "    .dataframe tbody tr th {\n",
              "        vertical-align: top;\n",
              "    }\n",
              "\n",
              "    .dataframe thead th {\n",
              "        text-align: right;\n",
              "    }\n",
              "</style>\n",
              "<table border=\"1\" class=\"dataframe\">\n",
              "  <thead>\n",
              "    <tr style=\"text-align: right;\">\n",
              "      <th></th>\n",
              "      <th>Close</th>\n",
              "      <th>RNN_prediction</th>\n",
              "      <th>LSTM_prediction</th>\n",
              "    </tr>\n",
              "  </thead>\n",
              "  <tbody>\n",
              "    <tr>\n",
              "      <th>230</th>\n",
              "      <td>2581.750000</td>\n",
              "      <td>2521.915947</td>\n",
              "      <td>2565.392225</td>\n",
              "    </tr>\n",
              "    <tr>\n",
              "      <th>231</th>\n",
              "      <td>2585.399902</td>\n",
              "      <td>2521.915947</td>\n",
              "      <td>2561.425091</td>\n",
              "    </tr>\n",
              "    <tr>\n",
              "      <th>232</th>\n",
              "      <td>2569.300049</td>\n",
              "      <td>2521.915947</td>\n",
              "      <td>2557.577527</td>\n",
              "    </tr>\n",
              "    <tr>\n",
              "      <th>233</th>\n",
              "      <td>2598.050049</td>\n",
              "      <td>2521.915947</td>\n",
              "      <td>2553.916653</td>\n",
              "    </tr>\n",
              "    <tr>\n",
              "      <th>234</th>\n",
              "      <td>2619.750000</td>\n",
              "      <td>2521.915947</td>\n",
              "      <td>2550.458210</td>\n",
              "    </tr>\n",
              "    <tr>\n",
              "      <th>235</th>\n",
              "      <td>2588.350098</td>\n",
              "      <td>2521.915947</td>\n",
              "      <td>2547.258449</td>\n",
              "    </tr>\n",
              "    <tr>\n",
              "      <th>236</th>\n",
              "      <td>2562.699951</td>\n",
              "      <td>2521.915947</td>\n",
              "      <td>2544.293895</td>\n",
              "    </tr>\n",
              "    <tr>\n",
              "      <th>237</th>\n",
              "      <td>2499.199951</td>\n",
              "      <td>2521.915947</td>\n",
              "      <td>2541.555771</td>\n",
              "    </tr>\n",
              "    <tr>\n",
              "      <th>238</th>\n",
              "      <td>2502.449951</td>\n",
              "      <td>2521.915947</td>\n",
              "      <td>2539.013392</td>\n",
              "    </tr>\n",
              "    <tr>\n",
              "      <th>239</th>\n",
              "      <td>2502.850098</td>\n",
              "      <td>2521.915947</td>\n",
              "      <td>2536.600057</td>\n",
              "    </tr>\n",
              "    <tr>\n",
              "      <th>240</th>\n",
              "      <td>2509.750000</td>\n",
              "      <td>2521.915947</td>\n",
              "      <td>2534.353767</td>\n",
              "    </tr>\n",
              "    <tr>\n",
              "      <th>241</th>\n",
              "      <td>2486.100098</td>\n",
              "      <td>2521.915947</td>\n",
              "      <td>2532.326871</td>\n",
              "    </tr>\n",
              "    <tr>\n",
              "      <th>242</th>\n",
              "      <td>2439.500000</td>\n",
              "      <td>2521.915947</td>\n",
              "      <td>2530.451416</td>\n",
              "    </tr>\n",
              "    <tr>\n",
              "      <th>243</th>\n",
              "      <td>2377.350098</td>\n",
              "      <td>2521.915947</td>\n",
              "      <td>2528.713923</td>\n",
              "    </tr>\n",
              "    <tr>\n",
              "      <th>244</th>\n",
              "      <td>2396.250000</td>\n",
              "      <td>2521.915947</td>\n",
              "      <td>2527.094503</td>\n",
              "    </tr>\n",
              "    <tr>\n",
              "      <th>245</th>\n",
              "      <td>2332.449951</td>\n",
              "      <td>2521.915947</td>\n",
              "      <td>2525.574052</td>\n",
              "    </tr>\n",
              "    <tr>\n",
              "      <th>246</th>\n",
              "      <td>2325.300049</td>\n",
              "      <td>2521.915947</td>\n",
              "      <td>2524.219149</td>\n",
              "    </tr>\n",
              "    <tr>\n",
              "      <th>247</th>\n",
              "      <td>2377.750000</td>\n",
              "      <td>2521.915947</td>\n",
              "      <td>2522.874398</td>\n",
              "    </tr>\n",
              "    <tr>\n",
              "      <th>248</th>\n",
              "      <td>2369.500000</td>\n",
              "      <td>2521.915947</td>\n",
              "      <td>2521.587047</td>\n",
              "    </tr>\n",
              "    <tr>\n",
              "      <th>249</th>\n",
              "      <td>2413.199951</td>\n",
              "      <td>2521.915947</td>\n",
              "      <td>2520.439643</td>\n",
              "    </tr>\n",
              "  </tbody>\n",
              "</table>\n",
              "</div>\n",
              "      <button class=\"colab-df-convert\" onclick=\"convertToInteractive('df-f197399e-5b97-486e-af87-741bed5c3323')\"\n",
              "              title=\"Convert this dataframe to an interactive table.\"\n",
              "              style=\"display:none;\">\n",
              "        \n",
              "  <svg xmlns=\"http://www.w3.org/2000/svg\" height=\"24px\"viewBox=\"0 0 24 24\"\n",
              "       width=\"24px\">\n",
              "    <path d=\"M0 0h24v24H0V0z\" fill=\"none\"/>\n",
              "    <path d=\"M18.56 5.44l.94 2.06.94-2.06 2.06-.94-2.06-.94-.94-2.06-.94 2.06-2.06.94zm-11 1L8.5 8.5l.94-2.06 2.06-.94-2.06-.94L8.5 2.5l-.94 2.06-2.06.94zm10 10l.94 2.06.94-2.06 2.06-.94-2.06-.94-.94-2.06-.94 2.06-2.06.94z\"/><path d=\"M17.41 7.96l-1.37-1.37c-.4-.4-.92-.59-1.43-.59-.52 0-1.04.2-1.43.59L10.3 9.45l-7.72 7.72c-.78.78-.78 2.05 0 2.83L4 21.41c.39.39.9.59 1.41.59.51 0 1.02-.2 1.41-.59l7.78-7.78 2.81-2.81c.8-.78.8-2.07 0-2.86zM5.41 20L4 18.59l7.72-7.72 1.47 1.35L5.41 20z\"/>\n",
              "  </svg>\n",
              "      </button>\n",
              "      \n",
              "  <style>\n",
              "    .colab-df-container {\n",
              "      display:flex;\n",
              "      flex-wrap:wrap;\n",
              "      gap: 12px;\n",
              "    }\n",
              "\n",
              "    .colab-df-convert {\n",
              "      background-color: #E8F0FE;\n",
              "      border: none;\n",
              "      border-radius: 50%;\n",
              "      cursor: pointer;\n",
              "      display: none;\n",
              "      fill: #1967D2;\n",
              "      height: 32px;\n",
              "      padding: 0 0 0 0;\n",
              "      width: 32px;\n",
              "    }\n",
              "\n",
              "    .colab-df-convert:hover {\n",
              "      background-color: #E2EBFA;\n",
              "      box-shadow: 0px 1px 2px rgba(60, 64, 67, 0.3), 0px 1px 3px 1px rgba(60, 64, 67, 0.15);\n",
              "      fill: #174EA6;\n",
              "    }\n",
              "\n",
              "    [theme=dark] .colab-df-convert {\n",
              "      background-color: #3B4455;\n",
              "      fill: #D2E3FC;\n",
              "    }\n",
              "\n",
              "    [theme=dark] .colab-df-convert:hover {\n",
              "      background-color: #434B5C;\n",
              "      box-shadow: 0px 1px 3px 1px rgba(0, 0, 0, 0.15);\n",
              "      filter: drop-shadow(0px 1px 2px rgba(0, 0, 0, 0.3));\n",
              "      fill: #FFFFFF;\n",
              "    }\n",
              "  </style>\n",
              "\n",
              "      <script>\n",
              "        const buttonEl =\n",
              "          document.querySelector('#df-f197399e-5b97-486e-af87-741bed5c3323 button.colab-df-convert');\n",
              "        buttonEl.style.display =\n",
              "          google.colab.kernel.accessAllowed ? 'block' : 'none';\n",
              "\n",
              "        async function convertToInteractive(key) {\n",
              "          const element = document.querySelector('#df-f197399e-5b97-486e-af87-741bed5c3323');\n",
              "          const dataTable =\n",
              "            await google.colab.kernel.invokeFunction('convertToInteractive',\n",
              "                                                     [key], {});\n",
              "          if (!dataTable) return;\n",
              "\n",
              "          const docLinkHtml = 'Like what you see? Visit the ' +\n",
              "            '<a target=\"_blank\" href=https://colab.research.google.com/notebooks/data_table.ipynb>data table notebook</a>'\n",
              "            + ' to learn more about interactive tables.';\n",
              "          element.innerHTML = '';\n",
              "          dataTable['output_type'] = 'display_data';\n",
              "          await google.colab.output.renderOutput(dataTable, element);\n",
              "          const docLink = document.createElement('div');\n",
              "          docLink.innerHTML = docLinkHtml;\n",
              "          element.appendChild(docLink);\n",
              "        }\n",
              "      </script>\n",
              "    </div>\n",
              "  </div>\n",
              "  "
            ]
          },
          "metadata": {},
          "execution_count": 78
        }
      ]
    },
    {
      "cell_type": "code",
      "source": [
        "plt.plot(test['Close'], label ='test_val')\n",
        "plt.plot(test['RNN_prediction'], label= 'RNN_pred')\n",
        "plt.plot(test['LSTM_prediction'], label= 'LSTM_pred')\n",
        "plt.legend()"
      ],
      "metadata": {
        "colab": {
          "base_uri": "https://localhost:8080/",
          "height": 282
        },
        "id": "Itro8Sq4hNsL",
        "outputId": "c197f667-33d5-444a-cdb0-f3863ee61e72"
      },
      "execution_count": 79,
      "outputs": [
        {
          "output_type": "execute_result",
          "data": {
            "text/plain": [
              "<matplotlib.legend.Legend at 0x7f992bcf3b10>"
            ]
          },
          "metadata": {},
          "execution_count": 79
        },
        {
          "output_type": "display_data",
          "data": {
            "text/plain": [
              "<Figure size 432x288 with 1 Axes>"
            ],
            "image/png": "[encoded data removed]"
          },
          "metadata": {
            "needs_background": "light"
          }
        }
      ]
    },
    {
      "cell_type": "markdown",
      "source": [
        "**Creating LSTM Model for Forecasting**"
      ],
      "metadata": {
        "id": "nkdIC23ohUls"
      }
    },
    {
      "cell_type": "code",
      "source": [
        "length = 20\n",
        "batch_size = 30\n",
        "\n",
        "generator = TimeseriesGenerator(scaled_full_data, scaled_full_data, length= length, batch_size= batch_size)"
      ],
      "metadata": {
        "id": "GauJb_vqhXPs"
      },
      "execution_count": 80,
      "outputs": []
    },
    {
      "cell_type": "code",
      "source": [
        "LSTM_model = Sequential()\n",
        "\n",
        "LSTM_model.add(LSTM(30, input_shape= (length, n_features)))\n",
        "LSTM_model.add(Dropout(0.2))\n",
        "LSTM_model.add(Dense(1))\n",
        "\n",
        "LSTM_model.compile(optimizer= 'adam', loss= 'mse')"
      ],
      "metadata": {
        "id": "rmtsIB4Khbct"
      },
      "execution_count": 81,
      "outputs": []
    },
    {
      "cell_type": "code",
      "source": [
        "LSTM_model.fit_generator(generator, epochs= 10, shuffle= False)"
      ],
      "metadata": {
        "colab": {
          "base_uri": "https://localhost:8080/"
        },
        "id": "phVoJnVDhdIW",
        "outputId": "19eca69c-1f67-4b66-c1ef-0a3a9c4be567"
      },
      "execution_count": 82,
      "outputs": [
        {
          "output_type": "stream",
          "name": "stdout",
          "text": [
            "Epoch 1/10\n"
          ]
        },
        {
          "output_type": "stream",
          "name": "stderr",
          "text": [
            "/usr/local/lib/python3.7/dist-packages/ipykernel_launcher.py:1: UserWarning: `Model.fit_generator` is deprecated and will be removed in a future version. Please use `Model.fit`, which supports generators.\n",
            "  \"\"\"Entry point for launching an IPython kernel.\n"
          ]
        },
        {
          "output_type": "stream",
          "name": "stdout",
          "text": [
            "8/8 [==============================] - 2s 20ms/step - loss: 0.1470\n",
            "Epoch 2/10\n",
            "8/8 [==============================] - 0s 20ms/step - loss: 0.0449\n",
            "Epoch 3/10\n",
            "8/8 [==============================] - 0s 16ms/step - loss: 0.0334\n",
            "Epoch 4/10\n",
            "8/8 [==============================] - 0s 16ms/step - loss: 0.0310\n",
            "Epoch 5/10\n",
            "8/8 [==============================] - 0s 15ms/step - loss: 0.0289\n",
            "Epoch 6/10\n",
            "8/8 [==============================] - 0s 22ms/step - loss: 0.0264\n",
            "Epoch 7/10\n",
            "8/8 [==============================] - 0s 19ms/step - loss: 0.0245\n",
            "Epoch 8/10\n",
            "8/8 [==============================] - 0s 21ms/step - loss: 0.0268\n",
            "Epoch 9/10\n",
            "8/8 [==============================] - 0s 16ms/step - loss: 0.0263\n",
            "Epoch 10/10\n",
            "8/8 [==============================] - 0s 16ms/step - loss: 0.0244\n"
          ]
        },
        {
          "output_type": "execute_result",
          "data": {
            "text/plain": [
              "<keras.callbacks.History at 0x7f992bd060d0>"
            ]
          },
          "metadata": {},
          "execution_count": 82
        }
      ]
    },
    {
      "cell_type": "code",
      "source": [
        "forecast = []\n",
        "\n",
        "first_batch = scaled_full_data[-length:]\n",
        "curr_batch = first_batch.reshape((1,length,n_features))\n",
        "\n",
        "for i in range(len(test)):\n",
        "\n",
        "  curr_pred = LSTM_model.predict(curr_batch)[0]\n",
        "\n",
        "  forecast.append(curr_pred)\n",
        "\n",
        "  curr_batch = np.append(curr_batch[:,1:,:], [[curr_pred]], axis=1)"
      ],
      "metadata": {
        "id": "0IYDmXPqhhsF",
        "colab": {
          "base_uri": "https://localhost:8080/"
        },
        "outputId": "5cc8c382-d1dc-4a94-95dd-fa7d853160b8"
      },
      "execution_count": 83,
      "outputs": [
        {
          "output_type": "stream",
          "name": "stdout",
          "text": [
            "1/1 [==============================] - 1s 1s/step\n",
            "1/1 [==============================] - 0s 30ms/step\n",
            "1/1 [==============================] - 0s 48ms/step\n",
            "1/1 [==============================] - 0s 56ms/step\n",
            "1/1 [==============================] - 0s 44ms/step\n",
            "1/1 [==============================] - 0s 67ms/step\n",
            "1/1 [==============================] - 0s 28ms/step\n",
            "1/1 [==============================] - 0s 27ms/step\n",
            "1/1 [==============================] - 0s 35ms/step\n",
            "1/1 [==============================] - 0s 52ms/step\n",
            "1/1 [==============================] - 0s 37ms/step\n",
            "1/1 [==============================] - 0s 46ms/step\n",
            "1/1 [==============================] - 0s 29ms/step\n",
            "1/1 [==============================] - 0s 33ms/step\n",
            "1/1 [==============================] - 0s 34ms/step\n",
            "1/1 [==============================] - 0s 62ms/step\n",
            "1/1 [==============================] - 0s 58ms/step\n",
            "1/1 [==============================] - 0s 44ms/step\n",
            "1/1 [==============================] - 0s 35ms/step\n",
            "1/1 [==============================] - 0s 27ms/step\n"
          ]
        }
      ]
    },
    {
      "cell_type": "code",
      "source": [
        "forecast = scaler.inverse_transform(forecast)\n",
        "forecast"
      ],
      "metadata": {
        "colab": {
          "base_uri": "https://localhost:8080/"
        },
        "id": "b4lfQLUZhjBm",
        "outputId": "d39b0fe3-983e-4aa9-eddd-68058f22098d"
      },
      "execution_count": 84,
      "outputs": [
        {
          "output_type": "execute_result",
          "data": {
            "text/plain": [
              "array([[2424.86899917],\n",
              "       [2423.78975741],\n",
              "       [2424.2485379 ],\n",
              "       [2425.61423883],\n",
              "       [2427.46738534],\n",
              "       [2429.58207016],\n",
              "       [2431.83877422],\n",
              "       [2434.14110556],\n",
              "       [2436.4456486 ],\n",
              "       [2438.68269115],\n",
              "       [2440.84185385],\n",
              "       [2442.91357589],\n",
              "       [2444.9068434 ],\n",
              "       [2446.82137775],\n",
              "       [2448.65254653],\n",
              "       [2450.35843188],\n",
              "       [2451.98776093],\n",
              "       [2453.5079154 ],\n",
              "       [2454.90571216],\n",
              "       [2456.2291295 ]])"
            ]
          },
          "metadata": {},
          "execution_count": 84
        }
      ]
    },
    {
      "cell_type": "code",
      "source": [
        "forecast.flatten()"
      ],
      "metadata": {
        "id": "e7ts9TJjhmvf",
        "outputId": "e3a12691-4248-46ab-fe41-36a44ff0bf39",
        "colab": {
          "base_uri": "https://localhost:8080/"
        }
      },
      "execution_count": 85,
      "outputs": [
        {
          "output_type": "execute_result",
          "data": {
            "text/plain": [
              "array([2424.86899917, 2423.78975741, 2424.2485379 , 2425.61423883,\n",
              "       2427.46738534, 2429.58207016, 2431.83877422, 2434.14110556,\n",
              "       2436.4456486 , 2438.68269115, 2440.84185385, 2442.91357589,\n",
              "       2444.9068434 , 2446.82137775, 2448.65254653, 2450.35843188,\n",
              "       2451.98776093, 2453.5079154 , 2454.90571216, 2456.2291295 ])"
            ]
          },
          "metadata": {},
          "execution_count": 85
        }
      ]
    },
    {
      "cell_type": "code",
      "source": [
        "df_array = np.array(reliance_price)"
      ],
      "metadata": {
        "id": "F4KEQBidhncQ"
      },
      "execution_count": 88,
      "outputs": []
    },
    {
      "cell_type": "code",
      "source": [
        "new_data = pd.DataFrame(np.concatenate((df_array, forecast)))\n",
        "plt.plot(new_data)\n",
        "plt.title(\"Predicted Reliance_Price\")\n",
        "plt.xlabel(\"Date\")\n",
        "plt.ylabel(\"Predicted Price/Predicted Close\")\n",
        "\n",
        "plt.show()"
      ],
      "metadata": {
        "id": "_pyZt6mXhqhG",
        "outputId": "f725a4a5-6294-4fb1-caf5-df0adf5a37a9",
        "colab": {
          "base_uri": "https://localhost:8080/",
          "height": 295
        }
      },
      "execution_count": 90,
      "outputs": [
        {
          "output_type": "display_data",
          "data": {
            "text/plain": [
              "<Figure size 432x288 with 1 Axes>"
            ],
            "image/png": "[encoded data removed]"
          },
          "metadata": {
            "needs_background": "light"
          }
        }
      ]
    }
  ]
}